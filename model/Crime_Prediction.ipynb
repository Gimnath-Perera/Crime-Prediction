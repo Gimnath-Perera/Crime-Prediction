{
  "cells": [
    {
      "cell_type": "code",
      "execution_count": null,
      "id": "bacterial-regard",
      "metadata": {
        "_cell_guid": "b1076dfc-b9ad-4769-8c92-a6c4dae69d19",
        "_uuid": "8f2839f25d086af736a60e9eeb907d3b93b6e0e5",
        "execution": {
          "iopub.execute_input": "2021-04-18T07:47:53.400691Z",
          "iopub.status.busy": "2021-04-18T07:47:53.399547Z",
          "iopub.status.idle": "2021-04-18T07:47:53.408375Z",
          "shell.execute_reply": "2021-04-18T07:47:53.407618Z"
        },
        "papermill": {
          "duration": 0.037102,
          "end_time": "2021-04-18T07:47:53.408531",
          "exception": false,
          "start_time": "2021-04-18T07:47:53.371429",
          "status": "completed"
        },
        "tags": [],
        "id": "bacterial-regard"
      },
      "outputs": [],
      "source": [
        "import numpy as np \n",
        "import pandas as pd \n",
        "import os"
      ]
    },
    {
      "cell_type": "code",
      "source": [
        "from google.colab import drive\n",
        "drive.mount('/content/drive')"
      ],
      "metadata": {
        "colab": {
          "base_uri": "https://localhost:8080/"
        },
        "id": "fAqadv8aKnQ3",
        "outputId": "67f85703-fc1b-41de-be48-78279988f202"
      },
      "id": "fAqadv8aKnQ3",
      "execution_count": null,
      "outputs": [
        {
          "output_type": "stream",
          "name": "stdout",
          "text": [
            "Mounted at /content/drive\n"
          ]
        }
      ]
    },
    {
      "cell_type": "code",
      "source": [
        "!unzip \"drive/My Drive/Datasets/crime-dataset.zip\""
      ],
      "metadata": {
        "colab": {
          "base_uri": "https://localhost:8080/"
        },
        "id": "SuobEh4aKnvn",
        "outputId": "d13babde-f707-401c-9a95-782c9d57946e"
      },
      "id": "SuobEh4aKnvn",
      "execution_count": null,
      "outputs": [
        {
          "output_type": "stream",
          "name": "stdout",
          "text": [
            "Archive:  drive/My Drive/Datasets/crime-dataset.zip\n",
            "   creating: sf-crime/\n",
            "  inflating: sf-crime/sampleSubmission.csv  \n",
            "  inflating: sf-crime/test.csv       \n",
            "  inflating: sf-crime/train.csv      \n"
          ]
        }
      ]
    },
    {
      "cell_type": "markdown",
      "id": "worse-andorra",
      "metadata": {
        "papermill": {
          "duration": 0.024683,
          "end_time": "2021-04-18T07:47:53.458207",
          "exception": false,
          "start_time": "2021-04-18T07:47:53.433524",
          "status": "completed"
        },
        "tags": [],
        "id": "worse-andorra"
      },
      "source": [
        "**1. DATA LOAD**"
      ]
    },
    {
      "cell_type": "code",
      "execution_count": null,
      "id": "greek-shuttle",
      "metadata": {
        "execution": {
          "iopub.execute_input": "2021-04-18T07:47:53.511951Z",
          "iopub.status.busy": "2021-04-18T07:47:53.511332Z",
          "iopub.status.idle": "2021-04-18T07:47:56.742186Z",
          "shell.execute_reply": "2021-04-18T07:47:56.741573Z"
        },
        "papermill": {
          "duration": 3.259722,
          "end_time": "2021-04-18T07:47:56.742321",
          "exception": false,
          "start_time": "2021-04-18T07:47:53.482599",
          "status": "completed"
        },
        "tags": [],
        "colab": {
          "base_uri": "https://localhost:8080/",
          "height": 206
        },
        "id": "greek-shuttle",
        "outputId": "a6f6acca-e17d-4963-a80c-0c479d9faaae"
      },
      "outputs": [
        {
          "output_type": "execute_result",
          "data": {
            "text/plain": [
              "                 Dates        Category                      Descript  \\\n",
              "0  2015-05-13 23:53:00        WARRANTS                WARRANT ARREST   \n",
              "1  2015-05-13 23:53:00  OTHER OFFENSES      TRAFFIC VIOLATION ARREST   \n",
              "2  2015-05-13 23:33:00  OTHER OFFENSES      TRAFFIC VIOLATION ARREST   \n",
              "3  2015-05-13 23:30:00   LARCENY/THEFT  GRAND THEFT FROM LOCKED AUTO   \n",
              "4  2015-05-13 23:30:00   LARCENY/THEFT  GRAND THEFT FROM LOCKED AUTO   \n",
              "\n",
              "   DayOfWeek PdDistrict      Resolution                    Address  \\\n",
              "0  Wednesday   NORTHERN  ARREST, BOOKED         OAK ST / LAGUNA ST   \n",
              "1  Wednesday   NORTHERN  ARREST, BOOKED         OAK ST / LAGUNA ST   \n",
              "2  Wednesday   NORTHERN  ARREST, BOOKED  VANNESS AV / GREENWICH ST   \n",
              "3  Wednesday   NORTHERN            NONE   1500 Block of LOMBARD ST   \n",
              "4  Wednesday       PARK            NONE  100 Block of BRODERICK ST   \n",
              "\n",
              "            X          Y  \n",
              "0 -122.425892  37.774599  \n",
              "1 -122.425892  37.774599  \n",
              "2 -122.424363  37.800414  \n",
              "3 -122.426995  37.800873  \n",
              "4 -122.438738  37.771541  "
            ],
            "text/html": [
              "\n",
              "  <div id=\"df-3769e149-023b-4531-83f2-550b0d372f95\">\n",
              "    <div class=\"colab-df-container\">\n",
              "      <div>\n",
              "<style scoped>\n",
              "    .dataframe tbody tr th:only-of-type {\n",
              "        vertical-align: middle;\n",
              "    }\n",
              "\n",
              "    .dataframe tbody tr th {\n",
              "        vertical-align: top;\n",
              "    }\n",
              "\n",
              "    .dataframe thead th {\n",
              "        text-align: right;\n",
              "    }\n",
              "</style>\n",
              "<table border=\"1\" class=\"dataframe\">\n",
              "  <thead>\n",
              "    <tr style=\"text-align: right;\">\n",
              "      <th></th>\n",
              "      <th>Dates</th>\n",
              "      <th>Category</th>\n",
              "      <th>Descript</th>\n",
              "      <th>DayOfWeek</th>\n",
              "      <th>PdDistrict</th>\n",
              "      <th>Resolution</th>\n",
              "      <th>Address</th>\n",
              "      <th>X</th>\n",
              "      <th>Y</th>\n",
              "    </tr>\n",
              "  </thead>\n",
              "  <tbody>\n",
              "    <tr>\n",
              "      <th>0</th>\n",
              "      <td>2015-05-13 23:53:00</td>\n",
              "      <td>WARRANTS</td>\n",
              "      <td>WARRANT ARREST</td>\n",
              "      <td>Wednesday</td>\n",
              "      <td>NORTHERN</td>\n",
              "      <td>ARREST, BOOKED</td>\n",
              "      <td>OAK ST / LAGUNA ST</td>\n",
              "      <td>-122.425892</td>\n",
              "      <td>37.774599</td>\n",
              "    </tr>\n",
              "    <tr>\n",
              "      <th>1</th>\n",
              "      <td>2015-05-13 23:53:00</td>\n",
              "      <td>OTHER OFFENSES</td>\n",
              "      <td>TRAFFIC VIOLATION ARREST</td>\n",
              "      <td>Wednesday</td>\n",
              "      <td>NORTHERN</td>\n",
              "      <td>ARREST, BOOKED</td>\n",
              "      <td>OAK ST / LAGUNA ST</td>\n",
              "      <td>-122.425892</td>\n",
              "      <td>37.774599</td>\n",
              "    </tr>\n",
              "    <tr>\n",
              "      <th>2</th>\n",
              "      <td>2015-05-13 23:33:00</td>\n",
              "      <td>OTHER OFFENSES</td>\n",
              "      <td>TRAFFIC VIOLATION ARREST</td>\n",
              "      <td>Wednesday</td>\n",
              "      <td>NORTHERN</td>\n",
              "      <td>ARREST, BOOKED</td>\n",
              "      <td>VANNESS AV / GREENWICH ST</td>\n",
              "      <td>-122.424363</td>\n",
              "      <td>37.800414</td>\n",
              "    </tr>\n",
              "    <tr>\n",
              "      <th>3</th>\n",
              "      <td>2015-05-13 23:30:00</td>\n",
              "      <td>LARCENY/THEFT</td>\n",
              "      <td>GRAND THEFT FROM LOCKED AUTO</td>\n",
              "      <td>Wednesday</td>\n",
              "      <td>NORTHERN</td>\n",
              "      <td>NONE</td>\n",
              "      <td>1500 Block of LOMBARD ST</td>\n",
              "      <td>-122.426995</td>\n",
              "      <td>37.800873</td>\n",
              "    </tr>\n",
              "    <tr>\n",
              "      <th>4</th>\n",
              "      <td>2015-05-13 23:30:00</td>\n",
              "      <td>LARCENY/THEFT</td>\n",
              "      <td>GRAND THEFT FROM LOCKED AUTO</td>\n",
              "      <td>Wednesday</td>\n",
              "      <td>PARK</td>\n",
              "      <td>NONE</td>\n",
              "      <td>100 Block of BRODERICK ST</td>\n",
              "      <td>-122.438738</td>\n",
              "      <td>37.771541</td>\n",
              "    </tr>\n",
              "  </tbody>\n",
              "</table>\n",
              "</div>\n",
              "      <button class=\"colab-df-convert\" onclick=\"convertToInteractive('df-3769e149-023b-4531-83f2-550b0d372f95')\"\n",
              "              title=\"Convert this dataframe to an interactive table.\"\n",
              "              style=\"display:none;\">\n",
              "        \n",
              "  <svg xmlns=\"http://www.w3.org/2000/svg\" height=\"24px\"viewBox=\"0 0 24 24\"\n",
              "       width=\"24px\">\n",
              "    <path d=\"M0 0h24v24H0V0z\" fill=\"none\"/>\n",
              "    <path d=\"M18.56 5.44l.94 2.06.94-2.06 2.06-.94-2.06-.94-.94-2.06-.94 2.06-2.06.94zm-11 1L8.5 8.5l.94-2.06 2.06-.94-2.06-.94L8.5 2.5l-.94 2.06-2.06.94zm10 10l.94 2.06.94-2.06 2.06-.94-2.06-.94-.94-2.06-.94 2.06-2.06.94z\"/><path d=\"M17.41 7.96l-1.37-1.37c-.4-.4-.92-.59-1.43-.59-.52 0-1.04.2-1.43.59L10.3 9.45l-7.72 7.72c-.78.78-.78 2.05 0 2.83L4 21.41c.39.39.9.59 1.41.59.51 0 1.02-.2 1.41-.59l7.78-7.78 2.81-2.81c.8-.78.8-2.07 0-2.86zM5.41 20L4 18.59l7.72-7.72 1.47 1.35L5.41 20z\"/>\n",
              "  </svg>\n",
              "      </button>\n",
              "      \n",
              "  <style>\n",
              "    .colab-df-container {\n",
              "      display:flex;\n",
              "      flex-wrap:wrap;\n",
              "      gap: 12px;\n",
              "    }\n",
              "\n",
              "    .colab-df-convert {\n",
              "      background-color: #E8F0FE;\n",
              "      border: none;\n",
              "      border-radius: 50%;\n",
              "      cursor: pointer;\n",
              "      display: none;\n",
              "      fill: #1967D2;\n",
              "      height: 32px;\n",
              "      padding: 0 0 0 0;\n",
              "      width: 32px;\n",
              "    }\n",
              "\n",
              "    .colab-df-convert:hover {\n",
              "      background-color: #E2EBFA;\n",
              "      box-shadow: 0px 1px 2px rgba(60, 64, 67, 0.3), 0px 1px 3px 1px rgba(60, 64, 67, 0.15);\n",
              "      fill: #174EA6;\n",
              "    }\n",
              "\n",
              "    [theme=dark] .colab-df-convert {\n",
              "      background-color: #3B4455;\n",
              "      fill: #D2E3FC;\n",
              "    }\n",
              "\n",
              "    [theme=dark] .colab-df-convert:hover {\n",
              "      background-color: #434B5C;\n",
              "      box-shadow: 0px 1px 3px 1px rgba(0, 0, 0, 0.15);\n",
              "      filter: drop-shadow(0px 1px 2px rgba(0, 0, 0, 0.3));\n",
              "      fill: #FFFFFF;\n",
              "    }\n",
              "  </style>\n",
              "\n",
              "      <script>\n",
              "        const buttonEl =\n",
              "          document.querySelector('#df-3769e149-023b-4531-83f2-550b0d372f95 button.colab-df-convert');\n",
              "        buttonEl.style.display =\n",
              "          google.colab.kernel.accessAllowed ? 'block' : 'none';\n",
              "\n",
              "        async function convertToInteractive(key) {\n",
              "          const element = document.querySelector('#df-3769e149-023b-4531-83f2-550b0d372f95');\n",
              "          const dataTable =\n",
              "            await google.colab.kernel.invokeFunction('convertToInteractive',\n",
              "                                                     [key], {});\n",
              "          if (!dataTable) return;\n",
              "\n",
              "          const docLinkHtml = 'Like what you see? Visit the ' +\n",
              "            '<a target=\"_blank\" href=https://colab.research.google.com/notebooks/data_table.ipynb>data table notebook</a>'\n",
              "            + ' to learn more about interactive tables.';\n",
              "          element.innerHTML = '';\n",
              "          dataTable['output_type'] = 'display_data';\n",
              "          await google.colab.output.renderOutput(dataTable, element);\n",
              "          const docLink = document.createElement('div');\n",
              "          docLink.innerHTML = docLinkHtml;\n",
              "          element.appendChild(docLink);\n",
              "        }\n",
              "      </script>\n",
              "    </div>\n",
              "  </div>\n",
              "  "
            ]
          },
          "metadata": {},
          "execution_count": 10
        }
      ],
      "source": [
        "train = pd.read_csv('sf-crime/train.csv')\n",
        "train.head()"
      ]
    },
    {
      "cell_type": "code",
      "execution_count": null,
      "id": "functioning-jurisdiction",
      "metadata": {
        "execution": {
          "iopub.execute_input": "2021-04-18T07:47:56.797171Z",
          "iopub.status.busy": "2021-04-18T07:47:56.796568Z",
          "iopub.status.idle": "2021-04-18T07:47:59.655287Z",
          "shell.execute_reply": "2021-04-18T07:47:59.654631Z"
        },
        "papermill": {
          "duration": 2.886657,
          "end_time": "2021-04-18T07:47:59.655419",
          "exception": false,
          "start_time": "2021-04-18T07:47:56.768762",
          "status": "completed"
        },
        "tags": [],
        "colab": {
          "base_uri": "https://localhost:8080/",
          "height": 206
        },
        "id": "functioning-jurisdiction",
        "outputId": "a0afd632-eed8-46c8-98d0-8e8b392db98b"
      },
      "outputs": [
        {
          "output_type": "execute_result",
          "data": {
            "text/plain": [
              "   Id                Dates DayOfWeek PdDistrict                   Address  \\\n",
              "0   0  2015-05-10 23:59:00    Sunday    BAYVIEW   2000 Block of THOMAS AV   \n",
              "1   1  2015-05-10 23:51:00    Sunday    BAYVIEW        3RD ST / REVERE AV   \n",
              "2   2  2015-05-10 23:50:00    Sunday   NORTHERN    2000 Block of GOUGH ST   \n",
              "3   3  2015-05-10 23:45:00    Sunday  INGLESIDE  4700 Block of MISSION ST   \n",
              "4   4  2015-05-10 23:45:00    Sunday  INGLESIDE  4700 Block of MISSION ST   \n",
              "\n",
              "            X          Y  \n",
              "0 -122.399588  37.735051  \n",
              "1 -122.391523  37.732432  \n",
              "2 -122.426002  37.792212  \n",
              "3 -122.437394  37.721412  \n",
              "4 -122.437394  37.721412  "
            ],
            "text/html": [
              "\n",
              "  <div id=\"df-077d8fc1-a403-412e-8741-4d143a96c931\">\n",
              "    <div class=\"colab-df-container\">\n",
              "      <div>\n",
              "<style scoped>\n",
              "    .dataframe tbody tr th:only-of-type {\n",
              "        vertical-align: middle;\n",
              "    }\n",
              "\n",
              "    .dataframe tbody tr th {\n",
              "        vertical-align: top;\n",
              "    }\n",
              "\n",
              "    .dataframe thead th {\n",
              "        text-align: right;\n",
              "    }\n",
              "</style>\n",
              "<table border=\"1\" class=\"dataframe\">\n",
              "  <thead>\n",
              "    <tr style=\"text-align: right;\">\n",
              "      <th></th>\n",
              "      <th>Id</th>\n",
              "      <th>Dates</th>\n",
              "      <th>DayOfWeek</th>\n",
              "      <th>PdDistrict</th>\n",
              "      <th>Address</th>\n",
              "      <th>X</th>\n",
              "      <th>Y</th>\n",
              "    </tr>\n",
              "  </thead>\n",
              "  <tbody>\n",
              "    <tr>\n",
              "      <th>0</th>\n",
              "      <td>0</td>\n",
              "      <td>2015-05-10 23:59:00</td>\n",
              "      <td>Sunday</td>\n",
              "      <td>BAYVIEW</td>\n",
              "      <td>2000 Block of THOMAS AV</td>\n",
              "      <td>-122.399588</td>\n",
              "      <td>37.735051</td>\n",
              "    </tr>\n",
              "    <tr>\n",
              "      <th>1</th>\n",
              "      <td>1</td>\n",
              "      <td>2015-05-10 23:51:00</td>\n",
              "      <td>Sunday</td>\n",
              "      <td>BAYVIEW</td>\n",
              "      <td>3RD ST / REVERE AV</td>\n",
              "      <td>-122.391523</td>\n",
              "      <td>37.732432</td>\n",
              "    </tr>\n",
              "    <tr>\n",
              "      <th>2</th>\n",
              "      <td>2</td>\n",
              "      <td>2015-05-10 23:50:00</td>\n",
              "      <td>Sunday</td>\n",
              "      <td>NORTHERN</td>\n",
              "      <td>2000 Block of GOUGH ST</td>\n",
              "      <td>-122.426002</td>\n",
              "      <td>37.792212</td>\n",
              "    </tr>\n",
              "    <tr>\n",
              "      <th>3</th>\n",
              "      <td>3</td>\n",
              "      <td>2015-05-10 23:45:00</td>\n",
              "      <td>Sunday</td>\n",
              "      <td>INGLESIDE</td>\n",
              "      <td>4700 Block of MISSION ST</td>\n",
              "      <td>-122.437394</td>\n",
              "      <td>37.721412</td>\n",
              "    </tr>\n",
              "    <tr>\n",
              "      <th>4</th>\n",
              "      <td>4</td>\n",
              "      <td>2015-05-10 23:45:00</td>\n",
              "      <td>Sunday</td>\n",
              "      <td>INGLESIDE</td>\n",
              "      <td>4700 Block of MISSION ST</td>\n",
              "      <td>-122.437394</td>\n",
              "      <td>37.721412</td>\n",
              "    </tr>\n",
              "  </tbody>\n",
              "</table>\n",
              "</div>\n",
              "      <button class=\"colab-df-convert\" onclick=\"convertToInteractive('df-077d8fc1-a403-412e-8741-4d143a96c931')\"\n",
              "              title=\"Convert this dataframe to an interactive table.\"\n",
              "              style=\"display:none;\">\n",
              "        \n",
              "  <svg xmlns=\"http://www.w3.org/2000/svg\" height=\"24px\"viewBox=\"0 0 24 24\"\n",
              "       width=\"24px\">\n",
              "    <path d=\"M0 0h24v24H0V0z\" fill=\"none\"/>\n",
              "    <path d=\"M18.56 5.44l.94 2.06.94-2.06 2.06-.94-2.06-.94-.94-2.06-.94 2.06-2.06.94zm-11 1L8.5 8.5l.94-2.06 2.06-.94-2.06-.94L8.5 2.5l-.94 2.06-2.06.94zm10 10l.94 2.06.94-2.06 2.06-.94-2.06-.94-.94-2.06-.94 2.06-2.06.94z\"/><path d=\"M17.41 7.96l-1.37-1.37c-.4-.4-.92-.59-1.43-.59-.52 0-1.04.2-1.43.59L10.3 9.45l-7.72 7.72c-.78.78-.78 2.05 0 2.83L4 21.41c.39.39.9.59 1.41.59.51 0 1.02-.2 1.41-.59l7.78-7.78 2.81-2.81c.8-.78.8-2.07 0-2.86zM5.41 20L4 18.59l7.72-7.72 1.47 1.35L5.41 20z\"/>\n",
              "  </svg>\n",
              "      </button>\n",
              "      \n",
              "  <style>\n",
              "    .colab-df-container {\n",
              "      display:flex;\n",
              "      flex-wrap:wrap;\n",
              "      gap: 12px;\n",
              "    }\n",
              "\n",
              "    .colab-df-convert {\n",
              "      background-color: #E8F0FE;\n",
              "      border: none;\n",
              "      border-radius: 50%;\n",
              "      cursor: pointer;\n",
              "      display: none;\n",
              "      fill: #1967D2;\n",
              "      height: 32px;\n",
              "      padding: 0 0 0 0;\n",
              "      width: 32px;\n",
              "    }\n",
              "\n",
              "    .colab-df-convert:hover {\n",
              "      background-color: #E2EBFA;\n",
              "      box-shadow: 0px 1px 2px rgba(60, 64, 67, 0.3), 0px 1px 3px 1px rgba(60, 64, 67, 0.15);\n",
              "      fill: #174EA6;\n",
              "    }\n",
              "\n",
              "    [theme=dark] .colab-df-convert {\n",
              "      background-color: #3B4455;\n",
              "      fill: #D2E3FC;\n",
              "    }\n",
              "\n",
              "    [theme=dark] .colab-df-convert:hover {\n",
              "      background-color: #434B5C;\n",
              "      box-shadow: 0px 1px 3px 1px rgba(0, 0, 0, 0.15);\n",
              "      filter: drop-shadow(0px 1px 2px rgba(0, 0, 0, 0.3));\n",
              "      fill: #FFFFFF;\n",
              "    }\n",
              "  </style>\n",
              "\n",
              "      <script>\n",
              "        const buttonEl =\n",
              "          document.querySelector('#df-077d8fc1-a403-412e-8741-4d143a96c931 button.colab-df-convert');\n",
              "        buttonEl.style.display =\n",
              "          google.colab.kernel.accessAllowed ? 'block' : 'none';\n",
              "\n",
              "        async function convertToInteractive(key) {\n",
              "          const element = document.querySelector('#df-077d8fc1-a403-412e-8741-4d143a96c931');\n",
              "          const dataTable =\n",
              "            await google.colab.kernel.invokeFunction('convertToInteractive',\n",
              "                                                     [key], {});\n",
              "          if (!dataTable) return;\n",
              "\n",
              "          const docLinkHtml = 'Like what you see? Visit the ' +\n",
              "            '<a target=\"_blank\" href=https://colab.research.google.com/notebooks/data_table.ipynb>data table notebook</a>'\n",
              "            + ' to learn more about interactive tables.';\n",
              "          element.innerHTML = '';\n",
              "          dataTable['output_type'] = 'display_data';\n",
              "          await google.colab.output.renderOutput(dataTable, element);\n",
              "          const docLink = document.createElement('div');\n",
              "          docLink.innerHTML = docLinkHtml;\n",
              "          element.appendChild(docLink);\n",
              "        }\n",
              "      </script>\n",
              "    </div>\n",
              "  </div>\n",
              "  "
            ]
          },
          "metadata": {},
          "execution_count": 11
        }
      ],
      "source": [
        "test = pd.read_csv('sf-crime/test.csv')\n",
        "test.head()\n"
      ]
    },
    {
      "cell_type": "code",
      "execution_count": null,
      "id": "charged-wildlife",
      "metadata": {
        "execution": {
          "iopub.execute_input": "2021-04-18T07:47:59.713168Z",
          "iopub.status.busy": "2021-04-18T07:47:59.712485Z",
          "iopub.status.idle": "2021-04-18T07:48:01.686511Z",
          "shell.execute_reply": "2021-04-18T07:48:01.685874Z"
        },
        "papermill": {
          "duration": 2.003609,
          "end_time": "2021-04-18T07:48:01.686651",
          "exception": false,
          "start_time": "2021-04-18T07:47:59.683042",
          "status": "completed"
        },
        "tags": [],
        "colab": {
          "base_uri": "https://localhost:8080/",
          "height": 332
        },
        "id": "charged-wildlife",
        "outputId": "e2537d1e-479f-4a37-9a9b-e5638aaf02b8"
      },
      "outputs": [
        {
          "output_type": "execute_result",
          "data": {
            "text/plain": [
              "   Id  ARSON  ASSAULT  BAD CHECKS  BRIBERY  BURGLARY  DISORDERLY CONDUCT  \\\n",
              "0   0      0        0           0        0         0                   0   \n",
              "1   1      0        0           0        0         0                   0   \n",
              "2   2      0        0           0        0         0                   0   \n",
              "3   3      0        0           0        0         0                   0   \n",
              "4   4      0        0           0        0         0                   0   \n",
              "\n",
              "   DRIVING UNDER THE INFLUENCE  DRUG/NARCOTIC  DRUNKENNESS  ...  \\\n",
              "0                            0              0            0  ...   \n",
              "1                            0              0            0  ...   \n",
              "2                            0              0            0  ...   \n",
              "3                            0              0            0  ...   \n",
              "4                            0              0            0  ...   \n",
              "\n",
              "   SEX OFFENSES NON FORCIBLE  STOLEN PROPERTY  SUICIDE  SUSPICIOUS OCC  TREA  \\\n",
              "0                          0                0        0               0     0   \n",
              "1                          0                0        0               0     0   \n",
              "2                          0                0        0               0     0   \n",
              "3                          0                0        0               0     0   \n",
              "4                          0                0        0               0     0   \n",
              "\n",
              "   TRESPASS  VANDALISM  VEHICLE THEFT  WARRANTS  WEAPON LAWS  \n",
              "0         0          0              0         1            0  \n",
              "1         0          0              0         1            0  \n",
              "2         0          0              0         1            0  \n",
              "3         0          0              0         1            0  \n",
              "4         0          0              0         1            0  \n",
              "\n",
              "[5 rows x 40 columns]"
            ],
            "text/html": [
              "\n",
              "  <div id=\"df-57c09ef7-3e36-4b0b-b762-976418ee434f\">\n",
              "    <div class=\"colab-df-container\">\n",
              "      <div>\n",
              "<style scoped>\n",
              "    .dataframe tbody tr th:only-of-type {\n",
              "        vertical-align: middle;\n",
              "    }\n",
              "\n",
              "    .dataframe tbody tr th {\n",
              "        vertical-align: top;\n",
              "    }\n",
              "\n",
              "    .dataframe thead th {\n",
              "        text-align: right;\n",
              "    }\n",
              "</style>\n",
              "<table border=\"1\" class=\"dataframe\">\n",
              "  <thead>\n",
              "    <tr style=\"text-align: right;\">\n",
              "      <th></th>\n",
              "      <th>Id</th>\n",
              "      <th>ARSON</th>\n",
              "      <th>ASSAULT</th>\n",
              "      <th>BAD CHECKS</th>\n",
              "      <th>BRIBERY</th>\n",
              "      <th>BURGLARY</th>\n",
              "      <th>DISORDERLY CONDUCT</th>\n",
              "      <th>DRIVING UNDER THE INFLUENCE</th>\n",
              "      <th>DRUG/NARCOTIC</th>\n",
              "      <th>DRUNKENNESS</th>\n",
              "      <th>...</th>\n",
              "      <th>SEX OFFENSES NON FORCIBLE</th>\n",
              "      <th>STOLEN PROPERTY</th>\n",
              "      <th>SUICIDE</th>\n",
              "      <th>SUSPICIOUS OCC</th>\n",
              "      <th>TREA</th>\n",
              "      <th>TRESPASS</th>\n",
              "      <th>VANDALISM</th>\n",
              "      <th>VEHICLE THEFT</th>\n",
              "      <th>WARRANTS</th>\n",
              "      <th>WEAPON LAWS</th>\n",
              "    </tr>\n",
              "  </thead>\n",
              "  <tbody>\n",
              "    <tr>\n",
              "      <th>0</th>\n",
              "      <td>0</td>\n",
              "      <td>0</td>\n",
              "      <td>0</td>\n",
              "      <td>0</td>\n",
              "      <td>0</td>\n",
              "      <td>0</td>\n",
              "      <td>0</td>\n",
              "      <td>0</td>\n",
              "      <td>0</td>\n",
              "      <td>0</td>\n",
              "      <td>...</td>\n",
              "      <td>0</td>\n",
              "      <td>0</td>\n",
              "      <td>0</td>\n",
              "      <td>0</td>\n",
              "      <td>0</td>\n",
              "      <td>0</td>\n",
              "      <td>0</td>\n",
              "      <td>0</td>\n",
              "      <td>1</td>\n",
              "      <td>0</td>\n",
              "    </tr>\n",
              "    <tr>\n",
              "      <th>1</th>\n",
              "      <td>1</td>\n",
              "      <td>0</td>\n",
              "      <td>0</td>\n",
              "      <td>0</td>\n",
              "      <td>0</td>\n",
              "      <td>0</td>\n",
              "      <td>0</td>\n",
              "      <td>0</td>\n",
              "      <td>0</td>\n",
              "      <td>0</td>\n",
              "      <td>...</td>\n",
              "      <td>0</td>\n",
              "      <td>0</td>\n",
              "      <td>0</td>\n",
              "      <td>0</td>\n",
              "      <td>0</td>\n",
              "      <td>0</td>\n",
              "      <td>0</td>\n",
              "      <td>0</td>\n",
              "      <td>1</td>\n",
              "      <td>0</td>\n",
              "    </tr>\n",
              "    <tr>\n",
              "      <th>2</th>\n",
              "      <td>2</td>\n",
              "      <td>0</td>\n",
              "      <td>0</td>\n",
              "      <td>0</td>\n",
              "      <td>0</td>\n",
              "      <td>0</td>\n",
              "      <td>0</td>\n",
              "      <td>0</td>\n",
              "      <td>0</td>\n",
              "      <td>0</td>\n",
              "      <td>...</td>\n",
              "      <td>0</td>\n",
              "      <td>0</td>\n",
              "      <td>0</td>\n",
              "      <td>0</td>\n",
              "      <td>0</td>\n",
              "      <td>0</td>\n",
              "      <td>0</td>\n",
              "      <td>0</td>\n",
              "      <td>1</td>\n",
              "      <td>0</td>\n",
              "    </tr>\n",
              "    <tr>\n",
              "      <th>3</th>\n",
              "      <td>3</td>\n",
              "      <td>0</td>\n",
              "      <td>0</td>\n",
              "      <td>0</td>\n",
              "      <td>0</td>\n",
              "      <td>0</td>\n",
              "      <td>0</td>\n",
              "      <td>0</td>\n",
              "      <td>0</td>\n",
              "      <td>0</td>\n",
              "      <td>...</td>\n",
              "      <td>0</td>\n",
              "      <td>0</td>\n",
              "      <td>0</td>\n",
              "      <td>0</td>\n",
              "      <td>0</td>\n",
              "      <td>0</td>\n",
              "      <td>0</td>\n",
              "      <td>0</td>\n",
              "      <td>1</td>\n",
              "      <td>0</td>\n",
              "    </tr>\n",
              "    <tr>\n",
              "      <th>4</th>\n",
              "      <td>4</td>\n",
              "      <td>0</td>\n",
              "      <td>0</td>\n",
              "      <td>0</td>\n",
              "      <td>0</td>\n",
              "      <td>0</td>\n",
              "      <td>0</td>\n",
              "      <td>0</td>\n",
              "      <td>0</td>\n",
              "      <td>0</td>\n",
              "      <td>...</td>\n",
              "      <td>0</td>\n",
              "      <td>0</td>\n",
              "      <td>0</td>\n",
              "      <td>0</td>\n",
              "      <td>0</td>\n",
              "      <td>0</td>\n",
              "      <td>0</td>\n",
              "      <td>0</td>\n",
              "      <td>1</td>\n",
              "      <td>0</td>\n",
              "    </tr>\n",
              "  </tbody>\n",
              "</table>\n",
              "<p>5 rows × 40 columns</p>\n",
              "</div>\n",
              "      <button class=\"colab-df-convert\" onclick=\"convertToInteractive('df-57c09ef7-3e36-4b0b-b762-976418ee434f')\"\n",
              "              title=\"Convert this dataframe to an interactive table.\"\n",
              "              style=\"display:none;\">\n",
              "        \n",
              "  <svg xmlns=\"http://www.w3.org/2000/svg\" height=\"24px\"viewBox=\"0 0 24 24\"\n",
              "       width=\"24px\">\n",
              "    <path d=\"M0 0h24v24H0V0z\" fill=\"none\"/>\n",
              "    <path d=\"M18.56 5.44l.94 2.06.94-2.06 2.06-.94-2.06-.94-.94-2.06-.94 2.06-2.06.94zm-11 1L8.5 8.5l.94-2.06 2.06-.94-2.06-.94L8.5 2.5l-.94 2.06-2.06.94zm10 10l.94 2.06.94-2.06 2.06-.94-2.06-.94-.94-2.06-.94 2.06-2.06.94z\"/><path d=\"M17.41 7.96l-1.37-1.37c-.4-.4-.92-.59-1.43-.59-.52 0-1.04.2-1.43.59L10.3 9.45l-7.72 7.72c-.78.78-.78 2.05 0 2.83L4 21.41c.39.39.9.59 1.41.59.51 0 1.02-.2 1.41-.59l7.78-7.78 2.81-2.81c.8-.78.8-2.07 0-2.86zM5.41 20L4 18.59l7.72-7.72 1.47 1.35L5.41 20z\"/>\n",
              "  </svg>\n",
              "      </button>\n",
              "      \n",
              "  <style>\n",
              "    .colab-df-container {\n",
              "      display:flex;\n",
              "      flex-wrap:wrap;\n",
              "      gap: 12px;\n",
              "    }\n",
              "\n",
              "    .colab-df-convert {\n",
              "      background-color: #E8F0FE;\n",
              "      border: none;\n",
              "      border-radius: 50%;\n",
              "      cursor: pointer;\n",
              "      display: none;\n",
              "      fill: #1967D2;\n",
              "      height: 32px;\n",
              "      padding: 0 0 0 0;\n",
              "      width: 32px;\n",
              "    }\n",
              "\n",
              "    .colab-df-convert:hover {\n",
              "      background-color: #E2EBFA;\n",
              "      box-shadow: 0px 1px 2px rgba(60, 64, 67, 0.3), 0px 1px 3px 1px rgba(60, 64, 67, 0.15);\n",
              "      fill: #174EA6;\n",
              "    }\n",
              "\n",
              "    [theme=dark] .colab-df-convert {\n",
              "      background-color: #3B4455;\n",
              "      fill: #D2E3FC;\n",
              "    }\n",
              "\n",
              "    [theme=dark] .colab-df-convert:hover {\n",
              "      background-color: #434B5C;\n",
              "      box-shadow: 0px 1px 3px 1px rgba(0, 0, 0, 0.15);\n",
              "      filter: drop-shadow(0px 1px 2px rgba(0, 0, 0, 0.3));\n",
              "      fill: #FFFFFF;\n",
              "    }\n",
              "  </style>\n",
              "\n",
              "      <script>\n",
              "        const buttonEl =\n",
              "          document.querySelector('#df-57c09ef7-3e36-4b0b-b762-976418ee434f button.colab-df-convert');\n",
              "        buttonEl.style.display =\n",
              "          google.colab.kernel.accessAllowed ? 'block' : 'none';\n",
              "\n",
              "        async function convertToInteractive(key) {\n",
              "          const element = document.querySelector('#df-57c09ef7-3e36-4b0b-b762-976418ee434f');\n",
              "          const dataTable =\n",
              "            await google.colab.kernel.invokeFunction('convertToInteractive',\n",
              "                                                     [key], {});\n",
              "          if (!dataTable) return;\n",
              "\n",
              "          const docLinkHtml = 'Like what you see? Visit the ' +\n",
              "            '<a target=\"_blank\" href=https://colab.research.google.com/notebooks/data_table.ipynb>data table notebook</a>'\n",
              "            + ' to learn more about interactive tables.';\n",
              "          element.innerHTML = '';\n",
              "          dataTable['output_type'] = 'display_data';\n",
              "          await google.colab.output.renderOutput(dataTable, element);\n",
              "          const docLink = document.createElement('div');\n",
              "          docLink.innerHTML = docLinkHtml;\n",
              "          element.appendChild(docLink);\n",
              "        }\n",
              "      </script>\n",
              "    </div>\n",
              "  </div>\n",
              "  "
            ]
          },
          "metadata": {},
          "execution_count": 12
        }
      ],
      "source": [
        "sub = pd.read_csv('sf-crime/sampleSubmission.csv')\n",
        "sub.head()"
      ]
    },
    {
      "cell_type": "code",
      "execution_count": null,
      "id": "responsible-flesh",
      "metadata": {
        "execution": {
          "iopub.execute_input": "2021-04-18T07:48:01.748218Z",
          "iopub.status.busy": "2021-04-18T07:48:01.747537Z",
          "iopub.status.idle": "2021-04-18T07:48:01.753189Z",
          "shell.execute_reply": "2021-04-18T07:48:01.753694Z"
        },
        "papermill": {
          "duration": 0.039646,
          "end_time": "2021-04-18T07:48:01.753868",
          "exception": false,
          "start_time": "2021-04-18T07:48:01.714222",
          "status": "completed"
        },
        "tags": [],
        "colab": {
          "base_uri": "https://localhost:8080/"
        },
        "id": "responsible-flesh",
        "outputId": "9eb7d054-bd7b-4809-d886-0bbcbf7f131f"
      },
      "outputs": [
        {
          "output_type": "execute_result",
          "data": {
            "text/plain": [
              "(878049, 9)"
            ]
          },
          "metadata": {},
          "execution_count": 13
        }
      ],
      "source": [
        "train.shape"
      ]
    },
    {
      "cell_type": "code",
      "execution_count": null,
      "id": "graduate-bidding",
      "metadata": {
        "execution": {
          "iopub.execute_input": "2021-04-18T07:48:01.816363Z",
          "iopub.status.busy": "2021-04-18T07:48:01.815654Z",
          "iopub.status.idle": "2021-04-18T07:48:01.822470Z",
          "shell.execute_reply": "2021-04-18T07:48:01.821747Z"
        },
        "papermill": {
          "duration": 0.039856,
          "end_time": "2021-04-18T07:48:01.822607",
          "exception": false,
          "start_time": "2021-04-18T07:48:01.782751",
          "status": "completed"
        },
        "tags": [],
        "colab": {
          "base_uri": "https://localhost:8080/"
        },
        "id": "graduate-bidding",
        "outputId": "2310cc2a-9440-4e5c-8a83-a4e8720940b3"
      },
      "outputs": [
        {
          "output_type": "execute_result",
          "data": {
            "text/plain": [
              "(884262, 7)"
            ]
          },
          "metadata": {},
          "execution_count": 14
        }
      ],
      "source": [
        "test.shape"
      ]
    },
    {
      "cell_type": "code",
      "execution_count": null,
      "id": "precise-payday",
      "metadata": {
        "execution": {
          "iopub.execute_input": "2021-04-18T07:48:01.885584Z",
          "iopub.status.busy": "2021-04-18T07:48:01.884786Z",
          "iopub.status.idle": "2021-04-18T07:48:01.889082Z",
          "shell.execute_reply": "2021-04-18T07:48:01.889691Z"
        },
        "papermill": {
          "duration": 0.038046,
          "end_time": "2021-04-18T07:48:01.889863",
          "exception": false,
          "start_time": "2021-04-18T07:48:01.851817",
          "status": "completed"
        },
        "tags": [],
        "colab": {
          "base_uri": "https://localhost:8080/"
        },
        "id": "precise-payday",
        "outputId": "3a881dbd-c6ff-4374-ec9a-c6048f36c27a"
      },
      "outputs": [
        {
          "output_type": "execute_result",
          "data": {
            "text/plain": [
              "(884262, 40)"
            ]
          },
          "metadata": {},
          "execution_count": 15
        }
      ],
      "source": [
        "sub.shape"
      ]
    },
    {
      "cell_type": "code",
      "execution_count": null,
      "id": "advisory-belly",
      "metadata": {
        "execution": {
          "iopub.execute_input": "2021-04-18T07:48:01.951889Z",
          "iopub.status.busy": "2021-04-18T07:48:01.951115Z",
          "iopub.status.idle": "2021-04-18T07:48:02.218551Z",
          "shell.execute_reply": "2021-04-18T07:48:02.219162Z"
        },
        "papermill": {
          "duration": 0.301755,
          "end_time": "2021-04-18T07:48:02.219326",
          "exception": false,
          "start_time": "2021-04-18T07:48:01.917571",
          "status": "completed"
        },
        "tags": [],
        "colab": {
          "base_uri": "https://localhost:8080/"
        },
        "id": "advisory-belly",
        "outputId": "f844950c-20df-4378-9202-38824f787d1a"
      },
      "outputs": [
        {
          "output_type": "stream",
          "name": "stdout",
          "text": [
            "<class 'pandas.core.frame.DataFrame'>\n",
            "RangeIndex: 878049 entries, 0 to 878048\n",
            "Data columns (total 9 columns):\n",
            " #   Column      Non-Null Count   Dtype  \n",
            "---  ------      --------------   -----  \n",
            " 0   Dates       878049 non-null  object \n",
            " 1   Category    878049 non-null  object \n",
            " 2   Descript    878049 non-null  object \n",
            " 3   DayOfWeek   878049 non-null  object \n",
            " 4   PdDistrict  878049 non-null  object \n",
            " 5   Resolution  878049 non-null  object \n",
            " 6   Address     878049 non-null  object \n",
            " 7   X           878049 non-null  float64\n",
            " 8   Y           878049 non-null  float64\n",
            "dtypes: float64(2), object(7)\n",
            "memory usage: 60.3+ MB\n"
          ]
        }
      ],
      "source": [
        "train.info() "
      ]
    },
    {
      "cell_type": "markdown",
      "id": "serious-grenada",
      "metadata": {
        "papermill": {
          "duration": 0.029165,
          "end_time": "2021-04-18T07:48:02.277319",
          "exception": false,
          "start_time": "2021-04-18T07:48:02.248154",
          "status": "completed"
        },
        "tags": [],
        "id": "serious-grenada"
      },
      "source": [
        "**2. DATA EDA**"
      ]
    },
    {
      "cell_type": "code",
      "execution_count": null,
      "id": "opposite-viking",
      "metadata": {
        "execution": {
          "iopub.execute_input": "2021-04-18T07:48:02.389343Z",
          "iopub.status.busy": "2021-04-18T07:48:02.359129Z",
          "iopub.status.idle": "2021-04-18T07:48:03.779678Z",
          "shell.execute_reply": "2021-04-18T07:48:03.779158Z"
        },
        "papermill": {
          "duration": 1.473408,
          "end_time": "2021-04-18T07:48:03.779812",
          "exception": false,
          "start_time": "2021-04-18T07:48:02.306404",
          "status": "completed"
        },
        "tags": [],
        "id": "opposite-viking"
      },
      "outputs": [],
      "source": [
        "train[\"Dates\"] = pd.to_datetime(train[\"Dates\"])\n",
        "train[\"YEAR\"] = train[\"Dates\"].dt.year\n",
        "train[\"MONTH\"] = train[\"Dates\"].dt.month\n",
        "train[\"DAY\"] = train[\"Dates\"].dt.day\n",
        "train[\"HOUR\"] = train[\"Dates\"].dt.hour\n",
        "\n",
        "test[\"Dates\"] = pd.to_datetime(test[\"Dates\"])\n",
        "test[\"YEAR\"] = test[\"Dates\"].dt.year\n",
        "test[\"MONTH\"] = test[\"Dates\"].dt.month\n",
        "test[\"DAY\"] = test[\"Dates\"].dt.day\n",
        "test[\"HOUR\"] = test[\"Dates\"].dt.hour"
      ]
    },
    {
      "cell_type": "code",
      "execution_count": null,
      "id": "powered-feelings",
      "metadata": {
        "execution": {
          "iopub.execute_input": "2021-04-18T07:48:03.845617Z",
          "iopub.status.busy": "2021-04-18T07:48:03.844583Z",
          "iopub.status.idle": "2021-04-18T07:48:04.078343Z",
          "shell.execute_reply": "2021-04-18T07:48:04.077683Z"
        },
        "papermill": {
          "duration": 0.269659,
          "end_time": "2021-04-18T07:48:04.078478",
          "exception": false,
          "start_time": "2021-04-18T07:48:03.808819",
          "status": "completed"
        },
        "tags": [],
        "colab": {
          "base_uri": "https://localhost:8080/"
        },
        "id": "powered-feelings",
        "outputId": "7a3437fb-9455-4d20-9512-a27d76a184c3"
      },
      "outputs": [
        {
          "output_type": "stream",
          "name": "stdout",
          "text": [
            "<class 'pandas.core.frame.DataFrame'>\n",
            "RangeIndex: 878049 entries, 0 to 878048\n",
            "Data columns (total 13 columns):\n",
            " #   Column      Non-Null Count   Dtype         \n",
            "---  ------      --------------   -----         \n",
            " 0   Dates       878049 non-null  datetime64[ns]\n",
            " 1   Category    878049 non-null  object        \n",
            " 2   Descript    878049 non-null  object        \n",
            " 3   DayOfWeek   878049 non-null  object        \n",
            " 4   PdDistrict  878049 non-null  object        \n",
            " 5   Resolution  878049 non-null  object        \n",
            " 6   Address     878049 non-null  object        \n",
            " 7   X           878049 non-null  float64       \n",
            " 8   Y           878049 non-null  float64       \n",
            " 9   YEAR        878049 non-null  int64         \n",
            " 10  MONTH       878049 non-null  int64         \n",
            " 11  DAY         878049 non-null  int64         \n",
            " 12  HOUR        878049 non-null  int64         \n",
            "dtypes: datetime64[ns](1), float64(2), int64(4), object(6)\n",
            "memory usage: 87.1+ MB\n"
          ]
        }
      ],
      "source": [
        "train.info()"
      ]
    },
    {
      "cell_type": "code",
      "execution_count": null,
      "id": "swiss-orchestra",
      "metadata": {
        "execution": {
          "iopub.execute_input": "2021-04-18T07:48:04.144294Z",
          "iopub.status.busy": "2021-04-18T07:48:04.143619Z",
          "iopub.status.idle": "2021-04-18T07:48:04.494814Z",
          "shell.execute_reply": "2021-04-18T07:48:04.494282Z"
        },
        "papermill": {
          "duration": 0.386435,
          "end_time": "2021-04-18T07:48:04.494947",
          "exception": false,
          "start_time": "2021-04-18T07:48:04.108512",
          "status": "completed"
        },
        "tags": [],
        "colab": {
          "base_uri": "https://localhost:8080/"
        },
        "id": "swiss-orchestra",
        "outputId": "218c26b4-f76c-4faf-90d0-8de9b8e4b10d"
      },
      "outputs": [
        {
          "output_type": "execute_result",
          "data": {
            "text/plain": [
              "Dates         datetime64[ns]\n",
              "Category            category\n",
              "Descript              object\n",
              "DayOfWeek             string\n",
              "PdDistrict            string\n",
              "Resolution            string\n",
              "Address               string\n",
              "X                    float64\n",
              "Y                    float64\n",
              "YEAR                   int64\n",
              "MONTH                  int64\n",
              "DAY                    int64\n",
              "HOUR                   int64\n",
              "dtype: object"
            ]
          },
          "metadata": {},
          "execution_count": 19
        }
      ],
      "source": [
        "train = train.astype({'Category' : 'category', \n",
        "                      'DayOfWeek' : 'string', \n",
        "                      'PdDistrict': 'string',\n",
        "                      'Resolution' : 'string',\n",
        "                      'Address' : 'string'})\n",
        "train.dtypes"
      ]
    },
    {
      "cell_type": "code",
      "execution_count": null,
      "id": "arbitrary-proxy",
      "metadata": {
        "execution": {
          "iopub.execute_input": "2021-04-18T07:48:04.562019Z",
          "iopub.status.busy": "2021-04-18T07:48:04.561386Z",
          "iopub.status.idle": "2021-04-18T07:48:04.655760Z",
          "shell.execute_reply": "2021-04-18T07:48:04.654921Z"
        },
        "papermill": {
          "duration": 0.131769,
          "end_time": "2021-04-18T07:48:04.655900",
          "exception": false,
          "start_time": "2021-04-18T07:48:04.524131",
          "status": "completed"
        },
        "tags": [],
        "colab": {
          "base_uri": "https://localhost:8080/"
        },
        "id": "arbitrary-proxy",
        "outputId": "b57a7a77-ca40-4641-9e64-68aa9d95c568"
      },
      "outputs": [
        {
          "output_type": "execute_result",
          "data": {
            "text/plain": [
              "Id                     int64\n",
              "Dates         datetime64[ns]\n",
              "DayOfWeek             string\n",
              "PdDistrict            string\n",
              "Address               string\n",
              "X                    float64\n",
              "Y                    float64\n",
              "YEAR                   int64\n",
              "MONTH                  int64\n",
              "DAY                    int64\n",
              "HOUR                   int64\n",
              "dtype: object"
            ]
          },
          "metadata": {},
          "execution_count": 20
        }
      ],
      "source": [
        "test = test.astype({'DayOfWeek' : 'string', \n",
        "                    'PdDistrict': 'string',\n",
        "                    'Address' : 'string'})\n",
        "test.dtypes"
      ]
    },
    {
      "cell_type": "code",
      "execution_count": null,
      "id": "vietnamese-utility",
      "metadata": {
        "execution": {
          "iopub.execute_input": "2021-04-18T07:48:04.730637Z",
          "iopub.status.busy": "2021-04-18T07:48:04.729907Z",
          "iopub.status.idle": "2021-04-18T07:48:05.299658Z",
          "shell.execute_reply": "2021-04-18T07:48:05.298733Z"
        },
        "papermill": {
          "duration": 0.612454,
          "end_time": "2021-04-18T07:48:05.299829",
          "exception": false,
          "start_time": "2021-04-18T07:48:04.687375",
          "status": "completed"
        },
        "tags": [],
        "colab": {
          "base_uri": "https://localhost:8080/",
          "height": 1000
        },
        "id": "vietnamese-utility",
        "outputId": "27e5b736-cde9-4361-81ec-8ceecb3f8634"
      },
      "outputs": [
        {
          "output_type": "execute_result",
          "data": {
            "text/plain": [
              "([<matplotlib.axis.XTick at 0x7f4a2334ad10>,\n",
              "  <matplotlib.axis.XTick at 0x7f4a2334acd0>,\n",
              "  <matplotlib.axis.XTick at 0x7f4a2334a850>,\n",
              "  <matplotlib.axis.XTick at 0x7f4a2327d850>,\n",
              "  <matplotlib.axis.XTick at 0x7f4a2327ddd0>,\n",
              "  <matplotlib.axis.XTick at 0x7f4a23210350>,\n",
              "  <matplotlib.axis.XTick at 0x7f4a2327d810>,\n",
              "  <matplotlib.axis.XTick at 0x7f4a23210650>,\n",
              "  <matplotlib.axis.XTick at 0x7f4a23210610>,\n",
              "  <matplotlib.axis.XTick at 0x7f4a23218450>,\n",
              "  <matplotlib.axis.XTick at 0x7f4a23218390>,\n",
              "  <matplotlib.axis.XTick at 0x7f4a23218850>,\n",
              "  <matplotlib.axis.XTick at 0x7f4a2321f410>,\n",
              "  <matplotlib.axis.XTick at 0x7f4a2321f350>,\n",
              "  <matplotlib.axis.XTick at 0x7f4a2321f890>,\n",
              "  <matplotlib.axis.XTick at 0x7f4a23227410>,\n",
              "  <matplotlib.axis.XTick at 0x7f4a2321ff50>,\n",
              "  <matplotlib.axis.XTick at 0x7f4a23218f90>,\n",
              "  <matplotlib.axis.XTick at 0x7f4a23227290>,\n",
              "  <matplotlib.axis.XTick at 0x7f4a23227b90>,\n",
              "  <matplotlib.axis.XTick at 0x7f4a23231190>,\n",
              "  <matplotlib.axis.XTick at 0x7f4a23231650>,\n",
              "  <matplotlib.axis.XTick at 0x7f4a23231590>,\n",
              "  <matplotlib.axis.XTick at 0x7f4a23239190>,\n",
              "  <matplotlib.axis.XTick at 0x7f4a23239650>,\n",
              "  <matplotlib.axis.XTick at 0x7f4a23239590>,\n",
              "  <matplotlib.axis.XTick at 0x7f4a23231b50>,\n",
              "  <matplotlib.axis.XTick at 0x7f4a23218910>,\n",
              "  <matplotlib.axis.XTick at 0x7f4a232398d0>,\n",
              "  <matplotlib.axis.XTick at 0x7f4a23241310>,\n",
              "  <matplotlib.axis.XTick at 0x7f4a23241810>,\n",
              "  <matplotlib.axis.XTick at 0x7f4a23241750>,\n",
              "  <matplotlib.axis.XTick at 0x7f4a23249310>,\n",
              "  <matplotlib.axis.XTick at 0x7f4a23249810>,\n",
              "  <matplotlib.axis.XTick at 0x7f4a23249750>,\n",
              "  <matplotlib.axis.XTick at 0x7f4a23249a90>,\n",
              "  <matplotlib.axis.XTick at 0x7f4a23241a90>,\n",
              "  <matplotlib.axis.XTick at 0x7f4a23249050>,\n",
              "  <matplotlib.axis.XTick at 0x7f4a23231310>],\n",
              " [Text(0, 0, 'LARCENY/THEFT'),\n",
              "  Text(0, 0, 'OTHER OFFENSES'),\n",
              "  Text(0, 0, 'NON-CRIMINAL'),\n",
              "  Text(0, 0, 'ASSAULT'),\n",
              "  Text(0, 0, 'DRUG/NARCOTIC'),\n",
              "  Text(0, 0, 'VEHICLE THEFT'),\n",
              "  Text(0, 0, 'VANDALISM'),\n",
              "  Text(0, 0, 'WARRANTS'),\n",
              "  Text(0, 0, 'BURGLARY'),\n",
              "  Text(0, 0, 'SUSPICIOUS OCC'),\n",
              "  Text(0, 0, 'MISSING PERSON'),\n",
              "  Text(0, 0, 'ROBBERY'),\n",
              "  Text(0, 0, 'FRAUD'),\n",
              "  Text(0, 0, 'FORGERY/COUNTERFEITING'),\n",
              "  Text(0, 0, 'SECONDARY CODES'),\n",
              "  Text(0, 0, 'WEAPON LAWS'),\n",
              "  Text(0, 0, 'PROSTITUTION'),\n",
              "  Text(0, 0, 'TRESPASS'),\n",
              "  Text(0, 0, 'STOLEN PROPERTY'),\n",
              "  Text(0, 0, 'SEX OFFENSES FORCIBLE'),\n",
              "  Text(0, 0, 'DISORDERLY CONDUCT'),\n",
              "  Text(0, 0, 'DRUNKENNESS'),\n",
              "  Text(0, 0, 'RECOVERED VEHICLE'),\n",
              "  Text(0, 0, 'KIDNAPPING'),\n",
              "  Text(0, 0, 'DRIVING UNDER THE INFLUENCE'),\n",
              "  Text(0, 0, 'RUNAWAY'),\n",
              "  Text(0, 0, 'LIQUOR LAWS'),\n",
              "  Text(0, 0, 'ARSON'),\n",
              "  Text(0, 0, 'LOITERING'),\n",
              "  Text(0, 0, 'EMBEZZLEMENT'),\n",
              "  Text(0, 0, 'SUICIDE'),\n",
              "  Text(0, 0, 'FAMILY OFFENSES'),\n",
              "  Text(0, 0, 'BAD CHECKS'),\n",
              "  Text(0, 0, 'BRIBERY'),\n",
              "  Text(0, 0, 'EXTORTION'),\n",
              "  Text(0, 0, 'SEX OFFENSES NON FORCIBLE'),\n",
              "  Text(0, 0, 'GAMBLING'),\n",
              "  Text(0, 0, 'PORNOGRAPHY/OBSCENE MAT'),\n",
              "  Text(0, 0, 'TREA')])"
            ]
          },
          "metadata": {},
          "execution_count": 21
        },
        {
          "output_type": "display_data",
          "data": {
            "text/plain": [
              "<Figure size 1440x864 with 1 Axes>"
            ],
            "image/png": "[encoded data removed]"
          },
          "metadata": {
            "needs_background": "light"
          }
        }
      ],
      "source": [
        "# target variable\n",
        "import matplotlib.pyplot as plt\n",
        "# import seaborn as sns\n",
        "\n",
        "TARGET = train['Category']\n",
        "DF_ = TARGET.value_counts()\n",
        "len_x = np.arange(len(DF_))\n",
        "\n",
        "plt.figure(figsize = (20, 12))\n",
        "plt.bar(len_x, DF_)\n",
        "plt.title(\"distribution of target variable(categorical)\")\n",
        "plt.ylabel('count')\n",
        "plt.xlabel('Category')\n",
        "plt.xticks(range(0, len(DF_.index)), DF_.index, rotation = \"vertical\")\n"
      ]
    },
    {
      "cell_type": "code",
      "execution_count": null,
      "id": "requested-evans",
      "metadata": {
        "execution": {
          "iopub.execute_input": "2021-04-18T07:48:05.405828Z",
          "iopub.status.busy": "2021-04-18T07:48:05.404951Z",
          "iopub.status.idle": "2021-04-18T07:48:05.409645Z",
          "shell.execute_reply": "2021-04-18T07:48:05.408999Z"
        },
        "papermill": {
          "duration": 0.060273,
          "end_time": "2021-04-18T07:48:05.409786",
          "exception": false,
          "start_time": "2021-04-18T07:48:05.349513",
          "status": "completed"
        },
        "tags": [],
        "colab": {
          "base_uri": "https://localhost:8080/"
        },
        "id": "requested-evans",
        "outputId": "fe2f903d-c369-4976-b200-5b9830e68acd"
      },
      "outputs": [
        {
          "output_type": "execute_result",
          "data": {
            "text/plain": [
              "LARCENY/THEFT                  174900\n",
              "OTHER OFFENSES                 126182\n",
              "NON-CRIMINAL                    92304\n",
              "ASSAULT                         76876\n",
              "DRUG/NARCOTIC                   53971\n",
              "VEHICLE THEFT                   53781\n",
              "VANDALISM                       44725\n",
              "WARRANTS                        42214\n",
              "BURGLARY                        36755\n",
              "SUSPICIOUS OCC                  31414\n",
              "MISSING PERSON                  25989\n",
              "ROBBERY                         23000\n",
              "FRAUD                           16679\n",
              "FORGERY/COUNTERFEITING          10609\n",
              "SECONDARY CODES                  9985\n",
              "WEAPON LAWS                      8555\n",
              "PROSTITUTION                     7484\n",
              "TRESPASS                         7326\n",
              "STOLEN PROPERTY                  4540\n",
              "SEX OFFENSES FORCIBLE            4388\n",
              "DISORDERLY CONDUCT               4320\n",
              "DRUNKENNESS                      4280\n",
              "RECOVERED VEHICLE                3138\n",
              "KIDNAPPING                       2341\n",
              "DRIVING UNDER THE INFLUENCE      2268\n",
              "RUNAWAY                          1946\n",
              "LIQUOR LAWS                      1903\n",
              "ARSON                            1513\n",
              "LOITERING                        1225\n",
              "EMBEZZLEMENT                     1166\n",
              "SUICIDE                           508\n",
              "FAMILY OFFENSES                   491\n",
              "BAD CHECKS                        406\n",
              "BRIBERY                           289\n",
              "EXTORTION                         256\n",
              "SEX OFFENSES NON FORCIBLE         148\n",
              "GAMBLING                          146\n",
              "PORNOGRAPHY/OBSCENE MAT            22\n",
              "TREA                                6\n",
              "Name: Category, dtype: int64"
            ]
          },
          "metadata": {},
          "execution_count": 22
        }
      ],
      "source": [
        "DF_"
      ]
    },
    {
      "cell_type": "markdown",
      "id": "authorized-gambling",
      "metadata": {
        "papermill": {
          "duration": 0.033605,
          "end_time": "2021-04-18T07:48:05.478317",
          "exception": false,
          "start_time": "2021-04-18T07:48:05.444712",
          "status": "completed"
        },
        "tags": [],
        "id": "authorized-gambling"
      },
      "source": [
        "**2 random forest**"
      ]
    },
    {
      "cell_type": "code",
      "execution_count": null,
      "id": "seeing-finnish",
      "metadata": {
        "execution": {
          "iopub.execute_input": "2021-04-18T07:48:05.578816Z",
          "iopub.status.busy": "2021-04-18T07:48:05.568231Z",
          "iopub.status.idle": "2021-04-18T07:48:05.585195Z",
          "shell.execute_reply": "2021-04-18T07:48:05.583907Z"
        },
        "papermill": {
          "duration": 0.073345,
          "end_time": "2021-04-18T07:48:05.585350",
          "exception": false,
          "start_time": "2021-04-18T07:48:05.512005",
          "status": "completed"
        },
        "tags": [],
        "colab": {
          "base_uri": "https://localhost:8080/",
          "height": 206
        },
        "id": "seeing-finnish",
        "outputId": "c80201e7-75d0-42c6-d16b-e969f38f757b"
      },
      "outputs": [
        {
          "output_type": "execute_result",
          "data": {
            "text/plain": [
              "   DayOfWeek PdDistrict                    Address           X          Y  \\\n",
              "0  Wednesday   NORTHERN         OAK ST / LAGUNA ST -122.425892  37.774599   \n",
              "1  Wednesday   NORTHERN         OAK ST / LAGUNA ST -122.425892  37.774599   \n",
              "2  Wednesday   NORTHERN  VANNESS AV / GREENWICH ST -122.424363  37.800414   \n",
              "3  Wednesday   NORTHERN   1500 Block of LOMBARD ST -122.426995  37.800873   \n",
              "4  Wednesday       PARK  100 Block of BRODERICK ST -122.438738  37.771541   \n",
              "\n",
              "   YEAR  MONTH  DAY  HOUR  \n",
              "0  2015      5   13    23  \n",
              "1  2015      5   13    23  \n",
              "2  2015      5   13    23  \n",
              "3  2015      5   13    23  \n",
              "4  2015      5   13    23  "
            ],
            "text/html": [
              "\n",
              "  <div id=\"df-f021e21e-6f54-4524-a26b-c28b99d22031\">\n",
              "    <div class=\"colab-df-container\">\n",
              "      <div>\n",
              "<style scoped>\n",
              "    .dataframe tbody tr th:only-of-type {\n",
              "        vertical-align: middle;\n",
              "    }\n",
              "\n",
              "    .dataframe tbody tr th {\n",
              "        vertical-align: top;\n",
              "    }\n",
              "\n",
              "    .dataframe thead th {\n",
              "        text-align: right;\n",
              "    }\n",
              "</style>\n",
              "<table border=\"1\" class=\"dataframe\">\n",
              "  <thead>\n",
              "    <tr style=\"text-align: right;\">\n",
              "      <th></th>\n",
              "      <th>DayOfWeek</th>\n",
              "      <th>PdDistrict</th>\n",
              "      <th>Address</th>\n",
              "      <th>X</th>\n",
              "      <th>Y</th>\n",
              "      <th>YEAR</th>\n",
              "      <th>MONTH</th>\n",
              "      <th>DAY</th>\n",
              "      <th>HOUR</th>\n",
              "    </tr>\n",
              "  </thead>\n",
              "  <tbody>\n",
              "    <tr>\n",
              "      <th>0</th>\n",
              "      <td>Wednesday</td>\n",
              "      <td>NORTHERN</td>\n",
              "      <td>OAK ST / LAGUNA ST</td>\n",
              "      <td>-122.425892</td>\n",
              "      <td>37.774599</td>\n",
              "      <td>2015</td>\n",
              "      <td>5</td>\n",
              "      <td>13</td>\n",
              "      <td>23</td>\n",
              "    </tr>\n",
              "    <tr>\n",
              "      <th>1</th>\n",
              "      <td>Wednesday</td>\n",
              "      <td>NORTHERN</td>\n",
              "      <td>OAK ST / LAGUNA ST</td>\n",
              "      <td>-122.425892</td>\n",
              "      <td>37.774599</td>\n",
              "      <td>2015</td>\n",
              "      <td>5</td>\n",
              "      <td>13</td>\n",
              "      <td>23</td>\n",
              "    </tr>\n",
              "    <tr>\n",
              "      <th>2</th>\n",
              "      <td>Wednesday</td>\n",
              "      <td>NORTHERN</td>\n",
              "      <td>VANNESS AV / GREENWICH ST</td>\n",
              "      <td>-122.424363</td>\n",
              "      <td>37.800414</td>\n",
              "      <td>2015</td>\n",
              "      <td>5</td>\n",
              "      <td>13</td>\n",
              "      <td>23</td>\n",
              "    </tr>\n",
              "    <tr>\n",
              "      <th>3</th>\n",
              "      <td>Wednesday</td>\n",
              "      <td>NORTHERN</td>\n",
              "      <td>1500 Block of LOMBARD ST</td>\n",
              "      <td>-122.426995</td>\n",
              "      <td>37.800873</td>\n",
              "      <td>2015</td>\n",
              "      <td>5</td>\n",
              "      <td>13</td>\n",
              "      <td>23</td>\n",
              "    </tr>\n",
              "    <tr>\n",
              "      <th>4</th>\n",
              "      <td>Wednesday</td>\n",
              "      <td>PARK</td>\n",
              "      <td>100 Block of BRODERICK ST</td>\n",
              "      <td>-122.438738</td>\n",
              "      <td>37.771541</td>\n",
              "      <td>2015</td>\n",
              "      <td>5</td>\n",
              "      <td>13</td>\n",
              "      <td>23</td>\n",
              "    </tr>\n",
              "  </tbody>\n",
              "</table>\n",
              "</div>\n",
              "      <button class=\"colab-df-convert\" onclick=\"convertToInteractive('df-f021e21e-6f54-4524-a26b-c28b99d22031')\"\n",
              "              title=\"Convert this dataframe to an interactive table.\"\n",
              "              style=\"display:none;\">\n",
              "        \n",
              "  <svg xmlns=\"http://www.w3.org/2000/svg\" height=\"24px\"viewBox=\"0 0 24 24\"\n",
              "       width=\"24px\">\n",
              "    <path d=\"M0 0h24v24H0V0z\" fill=\"none\"/>\n",
              "    <path d=\"M18.56 5.44l.94 2.06.94-2.06 2.06-.94-2.06-.94-.94-2.06-.94 2.06-2.06.94zm-11 1L8.5 8.5l.94-2.06 2.06-.94-2.06-.94L8.5 2.5l-.94 2.06-2.06.94zm10 10l.94 2.06.94-2.06 2.06-.94-2.06-.94-.94-2.06-.94 2.06-2.06.94z\"/><path d=\"M17.41 7.96l-1.37-1.37c-.4-.4-.92-.59-1.43-.59-.52 0-1.04.2-1.43.59L10.3 9.45l-7.72 7.72c-.78.78-.78 2.05 0 2.83L4 21.41c.39.39.9.59 1.41.59.51 0 1.02-.2 1.41-.59l7.78-7.78 2.81-2.81c.8-.78.8-2.07 0-2.86zM5.41 20L4 18.59l7.72-7.72 1.47 1.35L5.41 20z\"/>\n",
              "  </svg>\n",
              "      </button>\n",
              "      \n",
              "  <style>\n",
              "    .colab-df-container {\n",
              "      display:flex;\n",
              "      flex-wrap:wrap;\n",
              "      gap: 12px;\n",
              "    }\n",
              "\n",
              "    .colab-df-convert {\n",
              "      background-color: #E8F0FE;\n",
              "      border: none;\n",
              "      border-radius: 50%;\n",
              "      cursor: pointer;\n",
              "      display: none;\n",
              "      fill: #1967D2;\n",
              "      height: 32px;\n",
              "      padding: 0 0 0 0;\n",
              "      width: 32px;\n",
              "    }\n",
              "\n",
              "    .colab-df-convert:hover {\n",
              "      background-color: #E2EBFA;\n",
              "      box-shadow: 0px 1px 2px rgba(60, 64, 67, 0.3), 0px 1px 3px 1px rgba(60, 64, 67, 0.15);\n",
              "      fill: #174EA6;\n",
              "    }\n",
              "\n",
              "    [theme=dark] .colab-df-convert {\n",
              "      background-color: #3B4455;\n",
              "      fill: #D2E3FC;\n",
              "    }\n",
              "\n",
              "    [theme=dark] .colab-df-convert:hover {\n",
              "      background-color: #434B5C;\n",
              "      box-shadow: 0px 1px 3px 1px rgba(0, 0, 0, 0.15);\n",
              "      filter: drop-shadow(0px 1px 2px rgba(0, 0, 0, 0.3));\n",
              "      fill: #FFFFFF;\n",
              "    }\n",
              "  </style>\n",
              "\n",
              "      <script>\n",
              "        const buttonEl =\n",
              "          document.querySelector('#df-f021e21e-6f54-4524-a26b-c28b99d22031 button.colab-df-convert');\n",
              "        buttonEl.style.display =\n",
              "          google.colab.kernel.accessAllowed ? 'block' : 'none';\n",
              "\n",
              "        async function convertToInteractive(key) {\n",
              "          const element = document.querySelector('#df-f021e21e-6f54-4524-a26b-c28b99d22031');\n",
              "          const dataTable =\n",
              "            await google.colab.kernel.invokeFunction('convertToInteractive',\n",
              "                                                     [key], {});\n",
              "          if (!dataTable) return;\n",
              "\n",
              "          const docLinkHtml = 'Like what you see? Visit the ' +\n",
              "            '<a target=\"_blank\" href=https://colab.research.google.com/notebooks/data_table.ipynb>data table notebook</a>'\n",
              "            + ' to learn more about interactive tables.';\n",
              "          element.innerHTML = '';\n",
              "          dataTable['output_type'] = 'display_data';\n",
              "          await google.colab.output.renderOutput(dataTable, element);\n",
              "          const docLink = document.createElement('div');\n",
              "          docLink.innerHTML = docLinkHtml;\n",
              "          element.appendChild(docLink);\n",
              "        }\n",
              "      </script>\n",
              "    </div>\n",
              "  </div>\n",
              "  "
            ]
          },
          "metadata": {},
          "execution_count": 23
        }
      ],
      "source": [
        "train_x = train[['DayOfWeek', 'PdDistrict', 'Address', \n",
        "                 'X', 'Y', 'YEAR', 'MONTH', 'DAY', 'HOUR']]\n",
        "train_y = train[['Category']]\n",
        "\n",
        "test_x = test[['DayOfWeek', 'PdDistrict', 'Address', \n",
        "                 'X', 'Y', 'YEAR', 'MONTH', 'DAY', 'HOUR']]\n",
        "\n",
        "\n",
        "\n",
        "train_x.head()"
      ]
    },
    {
      "cell_type": "code",
      "execution_count": null,
      "id": "comparable-might",
      "metadata": {
        "execution": {
          "iopub.execute_input": "2021-04-18T07:48:05.770438Z",
          "iopub.status.busy": "2021-04-18T07:48:05.769687Z",
          "iopub.status.idle": "2021-04-18T07:48:06.026457Z",
          "shell.execute_reply": "2021-04-18T07:48:06.025877Z"
        },
        "papermill": {
          "duration": 0.406366,
          "end_time": "2021-04-18T07:48:06.026588",
          "exception": false,
          "start_time": "2021-04-18T07:48:05.620222",
          "status": "completed"
        },
        "tags": [],
        "colab": {
          "base_uri": "https://localhost:8080/"
        },
        "id": "comparable-might",
        "outputId": "7345fe61-3903-41d5-b4a0-57d06efd4181"
      },
      "outputs": [
        {
          "output_type": "stream",
          "name": "stdout",
          "text": [
            "<class 'pandas.core.frame.DataFrame'>\n",
            "RangeIndex: 878049 entries, 0 to 878048\n",
            "Data columns (total 9 columns):\n",
            " #   Column      Non-Null Count   Dtype  \n",
            "---  ------      --------------   -----  \n",
            " 0   DayOfWeek   878049 non-null  string \n",
            " 1   PdDistrict  878049 non-null  string \n",
            " 2   Address     878049 non-null  string \n",
            " 3   X           878049 non-null  float64\n",
            " 4   Y           878049 non-null  float64\n",
            " 5   YEAR        878049 non-null  int64  \n",
            " 6   MONTH       878049 non-null  int64  \n",
            " 7   DAY         878049 non-null  int64  \n",
            " 8   HOUR        878049 non-null  int64  \n",
            "dtypes: float64(2), int64(4), string(3)\n",
            "memory usage: 60.3 MB\n"
          ]
        }
      ],
      "source": [
        "train_x.info()"
      ]
    },
    {
      "cell_type": "code",
      "execution_count": null,
      "id": "humanitarian-stress",
      "metadata": {
        "execution": {
          "iopub.execute_input": "2021-04-18T07:48:06.107358Z",
          "iopub.status.busy": "2021-04-18T07:48:06.106270Z",
          "iopub.status.idle": "2021-04-18T07:48:06.110956Z",
          "shell.execute_reply": "2021-04-18T07:48:06.111496Z"
        },
        "papermill": {
          "duration": 0.048956,
          "end_time": "2021-04-18T07:48:06.111674",
          "exception": false,
          "start_time": "2021-04-18T07:48:06.062718",
          "status": "completed"
        },
        "tags": [],
        "colab": {
          "base_uri": "https://localhost:8080/",
          "height": 206
        },
        "id": "humanitarian-stress",
        "outputId": "0d1cadb1-3a6e-4b7c-ada6-7e6f171ee8d3"
      },
      "outputs": [
        {
          "output_type": "execute_result",
          "data": {
            "text/plain": [
              "         Category\n",
              "0        WARRANTS\n",
              "1  OTHER OFFENSES\n",
              "2  OTHER OFFENSES\n",
              "3   LARCENY/THEFT\n",
              "4   LARCENY/THEFT"
            ],
            "text/html": [
              "\n",
              "  <div id=\"df-6f8eac14-918c-402a-b244-4fcc1078ca75\">\n",
              "    <div class=\"colab-df-container\">\n",
              "      <div>\n",
              "<style scoped>\n",
              "    .dataframe tbody tr th:only-of-type {\n",
              "        vertical-align: middle;\n",
              "    }\n",
              "\n",
              "    .dataframe tbody tr th {\n",
              "        vertical-align: top;\n",
              "    }\n",
              "\n",
              "    .dataframe thead th {\n",
              "        text-align: right;\n",
              "    }\n",
              "</style>\n",
              "<table border=\"1\" class=\"dataframe\">\n",
              "  <thead>\n",
              "    <tr style=\"text-align: right;\">\n",
              "      <th></th>\n",
              "      <th>Category</th>\n",
              "    </tr>\n",
              "  </thead>\n",
              "  <tbody>\n",
              "    <tr>\n",
              "      <th>0</th>\n",
              "      <td>WARRANTS</td>\n",
              "    </tr>\n",
              "    <tr>\n",
              "      <th>1</th>\n",
              "      <td>OTHER OFFENSES</td>\n",
              "    </tr>\n",
              "    <tr>\n",
              "      <th>2</th>\n",
              "      <td>OTHER OFFENSES</td>\n",
              "    </tr>\n",
              "    <tr>\n",
              "      <th>3</th>\n",
              "      <td>LARCENY/THEFT</td>\n",
              "    </tr>\n",
              "    <tr>\n",
              "      <th>4</th>\n",
              "      <td>LARCENY/THEFT</td>\n",
              "    </tr>\n",
              "  </tbody>\n",
              "</table>\n",
              "</div>\n",
              "      <button class=\"colab-df-convert\" onclick=\"convertToInteractive('df-6f8eac14-918c-402a-b244-4fcc1078ca75')\"\n",
              "              title=\"Convert this dataframe to an interactive table.\"\n",
              "              style=\"display:none;\">\n",
              "        \n",
              "  <svg xmlns=\"http://www.w3.org/2000/svg\" height=\"24px\"viewBox=\"0 0 24 24\"\n",
              "       width=\"24px\">\n",
              "    <path d=\"M0 0h24v24H0V0z\" fill=\"none\"/>\n",
              "    <path d=\"M18.56 5.44l.94 2.06.94-2.06 2.06-.94-2.06-.94-.94-2.06-.94 2.06-2.06.94zm-11 1L8.5 8.5l.94-2.06 2.06-.94-2.06-.94L8.5 2.5l-.94 2.06-2.06.94zm10 10l.94 2.06.94-2.06 2.06-.94-2.06-.94-.94-2.06-.94 2.06-2.06.94z\"/><path d=\"M17.41 7.96l-1.37-1.37c-.4-.4-.92-.59-1.43-.59-.52 0-1.04.2-1.43.59L10.3 9.45l-7.72 7.72c-.78.78-.78 2.05 0 2.83L4 21.41c.39.39.9.59 1.41.59.51 0 1.02-.2 1.41-.59l7.78-7.78 2.81-2.81c.8-.78.8-2.07 0-2.86zM5.41 20L4 18.59l7.72-7.72 1.47 1.35L5.41 20z\"/>\n",
              "  </svg>\n",
              "      </button>\n",
              "      \n",
              "  <style>\n",
              "    .colab-df-container {\n",
              "      display:flex;\n",
              "      flex-wrap:wrap;\n",
              "      gap: 12px;\n",
              "    }\n",
              "\n",
              "    .colab-df-convert {\n",
              "      background-color: #E8F0FE;\n",
              "      border: none;\n",
              "      border-radius: 50%;\n",
              "      cursor: pointer;\n",
              "      display: none;\n",
              "      fill: #1967D2;\n",
              "      height: 32px;\n",
              "      padding: 0 0 0 0;\n",
              "      width: 32px;\n",
              "    }\n",
              "\n",
              "    .colab-df-convert:hover {\n",
              "      background-color: #E2EBFA;\n",
              "      box-shadow: 0px 1px 2px rgba(60, 64, 67, 0.3), 0px 1px 3px 1px rgba(60, 64, 67, 0.15);\n",
              "      fill: #174EA6;\n",
              "    }\n",
              "\n",
              "    [theme=dark] .colab-df-convert {\n",
              "      background-color: #3B4455;\n",
              "      fill: #D2E3FC;\n",
              "    }\n",
              "\n",
              "    [theme=dark] .colab-df-convert:hover {\n",
              "      background-color: #434B5C;\n",
              "      box-shadow: 0px 1px 3px 1px rgba(0, 0, 0, 0.15);\n",
              "      filter: drop-shadow(0px 1px 2px rgba(0, 0, 0, 0.3));\n",
              "      fill: #FFFFFF;\n",
              "    }\n",
              "  </style>\n",
              "\n",
              "      <script>\n",
              "        const buttonEl =\n",
              "          document.querySelector('#df-6f8eac14-918c-402a-b244-4fcc1078ca75 button.colab-df-convert');\n",
              "        buttonEl.style.display =\n",
              "          google.colab.kernel.accessAllowed ? 'block' : 'none';\n",
              "\n",
              "        async function convertToInteractive(key) {\n",
              "          const element = document.querySelector('#df-6f8eac14-918c-402a-b244-4fcc1078ca75');\n",
              "          const dataTable =\n",
              "            await google.colab.kernel.invokeFunction('convertToInteractive',\n",
              "                                                     [key], {});\n",
              "          if (!dataTable) return;\n",
              "\n",
              "          const docLinkHtml = 'Like what you see? Visit the ' +\n",
              "            '<a target=\"_blank\" href=https://colab.research.google.com/notebooks/data_table.ipynb>data table notebook</a>'\n",
              "            + ' to learn more about interactive tables.';\n",
              "          element.innerHTML = '';\n",
              "          dataTable['output_type'] = 'display_data';\n",
              "          await google.colab.output.renderOutput(dataTable, element);\n",
              "          const docLink = document.createElement('div');\n",
              "          docLink.innerHTML = docLinkHtml;\n",
              "          element.appendChild(docLink);\n",
              "        }\n",
              "      </script>\n",
              "    </div>\n",
              "  </div>\n",
              "  "
            ]
          },
          "metadata": {},
          "execution_count": 25
        }
      ],
      "source": [
        "train_y.head()"
      ]
    },
    {
      "cell_type": "code",
      "execution_count": null,
      "id": "aerial-myanmar",
      "metadata": {
        "execution": {
          "iopub.execute_input": "2021-04-18T07:48:06.189367Z",
          "iopub.status.busy": "2021-04-18T07:48:06.188701Z",
          "iopub.status.idle": "2021-04-18T07:48:09.530667Z",
          "shell.execute_reply": "2021-04-18T07:48:09.529522Z"
        },
        "papermill": {
          "duration": 3.383802,
          "end_time": "2021-04-18T07:48:09.530862",
          "exception": false,
          "start_time": "2021-04-18T07:48:06.147060",
          "status": "completed"
        },
        "tags": [],
        "id": "aerial-myanmar"
      },
      "outputs": [],
      "source": [
        "from sklearn import preprocessing\n",
        "from sklearn.ensemble import RandomForestClassifier\n",
        "from sklearn.metrics import accuracy_score\n",
        "\n",
        "le = preprocessing.LabelEncoder()\n",
        "\n",
        "train_x[\"DayOfWeek\"] = le.fit_transform(train_x[\"DayOfWeek\"])\n",
        "train_x[\"PdDistrict\"] = le.fit_transform(train_x[\"PdDistrict\"])\n",
        "train_x[\"Address\"] = le.fit_transform(train_x[\"Address\"])\n",
        "\n",
        "test_x[\"DayOfWeek\"] = le.fit_transform(test_x[\"DayOfWeek\"])\n",
        "test_x[\"PdDistrict\"] = le.fit_transform(test_x[\"PdDistrict\"])\n",
        "test_x[\"Address\"] = le.fit_transform(test_x[\"Address\"])"
      ]
    },
    {
      "cell_type": "code",
      "execution_count": null,
      "id": "shared-shark",
      "metadata": {
        "execution": {
          "iopub.execute_input": "2021-04-18T07:48:09.651066Z",
          "iopub.status.busy": "2021-04-18T07:48:09.649745Z",
          "iopub.status.idle": "2021-04-18T07:48:37.624753Z",
          "shell.execute_reply": "2021-04-18T07:48:37.624074Z"
        },
        "papermill": {
          "duration": 28.038157,
          "end_time": "2021-04-18T07:48:37.624918",
          "exception": false,
          "start_time": "2021-04-18T07:48:09.586761",
          "status": "completed"
        },
        "tags": [],
        "colab": {
          "base_uri": "https://localhost:8080/"
        },
        "id": "shared-shark",
        "outputId": "d05918cd-a8cb-4cd5-9659-d5a56ba07de3"
      },
      "outputs": [
        {
          "output_type": "stream",
          "name": "stderr",
          "text": [
            "/usr/local/lib/python3.7/dist-packages/ipykernel_launcher.py:3: DataConversionWarning: A column-vector y was passed when a 1d array was expected. Please change the shape of y to (n_samples,), for example using ravel().\n",
            "  This is separate from the ipykernel package so we can avoid doing imports until\n"
          ]
        }
      ],
      "source": [
        "model = RandomForestClassifier(n_estimators = 20, \n",
        "                             max_depth = 5, random_state = 0)\n",
        "trainedModel = model.fit(train_x, train_y)"
      ]
    },
    {
      "cell_type": "code",
      "source": [
        "# Save model file\n",
        "import joblib\n",
        "\n",
        "joblib.dump(trainedModel, \"crime_model.joblib\")"
      ],
      "metadata": {
        "colab": {
          "base_uri": "https://localhost:8080/"
        },
        "id": "5swhiZ-N0Pf4",
        "outputId": "e6a70798-6a48-483d-f1c9-45d00c928b9c"
      },
      "id": "5swhiZ-N0Pf4",
      "execution_count": null,
      "outputs": [
        {
          "output_type": "execute_result",
          "data": {
            "text/plain": [
              "['crime_model.joblib']"
            ]
          },
          "metadata": {},
          "execution_count": 28
        }
      ]
    },
    {
      "cell_type": "code",
      "source": [
        "test_x.iloc[0]"
      ],
      "metadata": {
        "colab": {
          "base_uri": "https://localhost:8080/"
        },
        "id": "fk-icE4CccQ3",
        "outputId": "d623c9c4-d4f7-425a-8df7-57a1a398de9d"
      },
      "id": "fk-icE4CccQ3",
      "execution_count": null,
      "outputs": [
        {
          "output_type": "execute_result",
          "data": {
            "text/plain": [
              "DayOfWeek        3.000000\n",
              "PdDistrict       0.000000\n",
              "Address       6407.000000\n",
              "X             -122.399588\n",
              "Y               37.735051\n",
              "YEAR          2015.000000\n",
              "MONTH            5.000000\n",
              "DAY             10.000000\n",
              "HOUR            23.000000\n",
              "Name: 0, dtype: float64"
            ]
          },
          "metadata": {},
          "execution_count": 29
        }
      ]
    },
    {
      "cell_type": "code",
      "source": [
        "test_x.head()"
      ],
      "metadata": {
        "colab": {
          "base_uri": "https://localhost:8080/",
          "height": 206
        },
        "id": "pNMeQMzndDkq",
        "outputId": "21c8232e-9ecd-4b29-c05e-228ab33f497d"
      },
      "id": "pNMeQMzndDkq",
      "execution_count": null,
      "outputs": [
        {
          "output_type": "execute_result",
          "data": {
            "text/plain": [
              "   DayOfWeek  PdDistrict  Address           X          Y  YEAR  MONTH  DAY  \\\n",
              "0          3           0     6407 -122.399588  37.735051  2015      5   10   \n",
              "1          3           0     9744 -122.391523  37.732432  2015      5   10   \n",
              "2          3           4     6336 -122.426002  37.792212  2015      5   10   \n",
              "3          3           2    10633 -122.437394  37.721412  2015      5   10   \n",
              "4          3           2    10633 -122.437394  37.721412  2015      5   10   \n",
              "\n",
              "   HOUR  \n",
              "0    23  \n",
              "1    23  \n",
              "2    23  \n",
              "3    23  \n",
              "4    23  "
            ],
            "text/html": [
              "\n",
              "  <div id=\"df-98d135b1-5f5b-442f-bbc3-12c0b7803e7f\">\n",
              "    <div class=\"colab-df-container\">\n",
              "      <div>\n",
              "<style scoped>\n",
              "    .dataframe tbody tr th:only-of-type {\n",
              "        vertical-align: middle;\n",
              "    }\n",
              "\n",
              "    .dataframe tbody tr th {\n",
              "        vertical-align: top;\n",
              "    }\n",
              "\n",
              "    .dataframe thead th {\n",
              "        text-align: right;\n",
              "    }\n",
              "</style>\n",
              "<table border=\"1\" class=\"dataframe\">\n",
              "  <thead>\n",
              "    <tr style=\"text-align: right;\">\n",
              "      <th></th>\n",
              "      <th>DayOfWeek</th>\n",
              "      <th>PdDistrict</th>\n",
              "      <th>Address</th>\n",
              "      <th>X</th>\n",
              "      <th>Y</th>\n",
              "      <th>YEAR</th>\n",
              "      <th>MONTH</th>\n",
              "      <th>DAY</th>\n",
              "      <th>HOUR</th>\n",
              "    </tr>\n",
              "  </thead>\n",
              "  <tbody>\n",
              "    <tr>\n",
              "      <th>0</th>\n",
              "      <td>3</td>\n",
              "      <td>0</td>\n",
              "      <td>6407</td>\n",
              "      <td>-122.399588</td>\n",
              "      <td>37.735051</td>\n",
              "      <td>2015</td>\n",
              "      <td>5</td>\n",
              "      <td>10</td>\n",
              "      <td>23</td>\n",
              "    </tr>\n",
              "    <tr>\n",
              "      <th>1</th>\n",
              "      <td>3</td>\n",
              "      <td>0</td>\n",
              "      <td>9744</td>\n",
              "      <td>-122.391523</td>\n",
              "      <td>37.732432</td>\n",
              "      <td>2015</td>\n",
              "      <td>5</td>\n",
              "      <td>10</td>\n",
              "      <td>23</td>\n",
              "    </tr>\n",
              "    <tr>\n",
              "      <th>2</th>\n",
              "      <td>3</td>\n",
              "      <td>4</td>\n",
              "      <td>6336</td>\n",
              "      <td>-122.426002</td>\n",
              "      <td>37.792212</td>\n",
              "      <td>2015</td>\n",
              "      <td>5</td>\n",
              "      <td>10</td>\n",
              "      <td>23</td>\n",
              "    </tr>\n",
              "    <tr>\n",
              "      <th>3</th>\n",
              "      <td>3</td>\n",
              "      <td>2</td>\n",
              "      <td>10633</td>\n",
              "      <td>-122.437394</td>\n",
              "      <td>37.721412</td>\n",
              "      <td>2015</td>\n",
              "      <td>5</td>\n",
              "      <td>10</td>\n",
              "      <td>23</td>\n",
              "    </tr>\n",
              "    <tr>\n",
              "      <th>4</th>\n",
              "      <td>3</td>\n",
              "      <td>2</td>\n",
              "      <td>10633</td>\n",
              "      <td>-122.437394</td>\n",
              "      <td>37.721412</td>\n",
              "      <td>2015</td>\n",
              "      <td>5</td>\n",
              "      <td>10</td>\n",
              "      <td>23</td>\n",
              "    </tr>\n",
              "  </tbody>\n",
              "</table>\n",
              "</div>\n",
              "      <button class=\"colab-df-convert\" onclick=\"convertToInteractive('df-98d135b1-5f5b-442f-bbc3-12c0b7803e7f')\"\n",
              "              title=\"Convert this dataframe to an interactive table.\"\n",
              "              style=\"display:none;\">\n",
              "        \n",
              "  <svg xmlns=\"http://www.w3.org/2000/svg\" height=\"24px\"viewBox=\"0 0 24 24\"\n",
              "       width=\"24px\">\n",
              "    <path d=\"M0 0h24v24H0V0z\" fill=\"none\"/>\n",
              "    <path d=\"M18.56 5.44l.94 2.06.94-2.06 2.06-.94-2.06-.94-.94-2.06-.94 2.06-2.06.94zm-11 1L8.5 8.5l.94-2.06 2.06-.94-2.06-.94L8.5 2.5l-.94 2.06-2.06.94zm10 10l.94 2.06.94-2.06 2.06-.94-2.06-.94-.94-2.06-.94 2.06-2.06.94z\"/><path d=\"M17.41 7.96l-1.37-1.37c-.4-.4-.92-.59-1.43-.59-.52 0-1.04.2-1.43.59L10.3 9.45l-7.72 7.72c-.78.78-.78 2.05 0 2.83L4 21.41c.39.39.9.59 1.41.59.51 0 1.02-.2 1.41-.59l7.78-7.78 2.81-2.81c.8-.78.8-2.07 0-2.86zM5.41 20L4 18.59l7.72-7.72 1.47 1.35L5.41 20z\"/>\n",
              "  </svg>\n",
              "      </button>\n",
              "      \n",
              "  <style>\n",
              "    .colab-df-container {\n",
              "      display:flex;\n",
              "      flex-wrap:wrap;\n",
              "      gap: 12px;\n",
              "    }\n",
              "\n",
              "    .colab-df-convert {\n",
              "      background-color: #E8F0FE;\n",
              "      border: none;\n",
              "      border-radius: 50%;\n",
              "      cursor: pointer;\n",
              "      display: none;\n",
              "      fill: #1967D2;\n",
              "      height: 32px;\n",
              "      padding: 0 0 0 0;\n",
              "      width: 32px;\n",
              "    }\n",
              "\n",
              "    .colab-df-convert:hover {\n",
              "      background-color: #E2EBFA;\n",
              "      box-shadow: 0px 1px 2px rgba(60, 64, 67, 0.3), 0px 1px 3px 1px rgba(60, 64, 67, 0.15);\n",
              "      fill: #174EA6;\n",
              "    }\n",
              "\n",
              "    [theme=dark] .colab-df-convert {\n",
              "      background-color: #3B4455;\n",
              "      fill: #D2E3FC;\n",
              "    }\n",
              "\n",
              "    [theme=dark] .colab-df-convert:hover {\n",
              "      background-color: #434B5C;\n",
              "      box-shadow: 0px 1px 3px 1px rgba(0, 0, 0, 0.15);\n",
              "      filter: drop-shadow(0px 1px 2px rgba(0, 0, 0, 0.3));\n",
              "      fill: #FFFFFF;\n",
              "    }\n",
              "  </style>\n",
              "\n",
              "      <script>\n",
              "        const buttonEl =\n",
              "          document.querySelector('#df-98d135b1-5f5b-442f-bbc3-12c0b7803e7f button.colab-df-convert');\n",
              "        buttonEl.style.display =\n",
              "          google.colab.kernel.accessAllowed ? 'block' : 'none';\n",
              "\n",
              "        async function convertToInteractive(key) {\n",
              "          const element = document.querySelector('#df-98d135b1-5f5b-442f-bbc3-12c0b7803e7f');\n",
              "          const dataTable =\n",
              "            await google.colab.kernel.invokeFunction('convertToInteractive',\n",
              "                                                     [key], {});\n",
              "          if (!dataTable) return;\n",
              "\n",
              "          const docLinkHtml = 'Like what you see? Visit the ' +\n",
              "            '<a target=\"_blank\" href=https://colab.research.google.com/notebooks/data_table.ipynb>data table notebook</a>'\n",
              "            + ' to learn more about interactive tables.';\n",
              "          element.innerHTML = '';\n",
              "          dataTable['output_type'] = 'display_data';\n",
              "          await google.colab.output.renderOutput(dataTable, element);\n",
              "          const docLink = document.createElement('div');\n",
              "          docLink.innerHTML = docLinkHtml;\n",
              "          element.appendChild(docLink);\n",
              "        }\n",
              "      </script>\n",
              "    </div>\n",
              "  </div>\n",
              "  "
            ]
          },
          "metadata": {},
          "execution_count": 30
        }
      ]
    },
    {
      "cell_type": "code",
      "source": [
        "result = trainedModel.predict(test_x)"
      ],
      "metadata": {
        "id": "sgVZpplPbnF4"
      },
      "id": "sgVZpplPbnF4",
      "execution_count": null,
      "outputs": []
    },
    {
      "cell_type": "code",
      "source": [
        "print(test_x)"
      ],
      "metadata": {
        "colab": {
          "base_uri": "https://localhost:8080/"
        },
        "id": "etYw88UICCzY",
        "outputId": "02e2e774-5178-4aa5-8424-56c682acac71"
      },
      "id": "etYw88UICCzY",
      "execution_count": null,
      "outputs": [
        {
          "output_type": "stream",
          "name": "stdout",
          "text": [
            "        DayOfWeek  PdDistrict  Address           X          Y  YEAR  MONTH  \\\n",
            "0               3           0     6407 -122.399588  37.735051  2015      5   \n",
            "1               3           0     9744 -122.391523  37.732432  2015      5   \n",
            "2               3           4     6336 -122.426002  37.792212  2015      5   \n",
            "3               3           2    10633 -122.437394  37.721412  2015      5   \n",
            "4               3           2    10633 -122.437394  37.721412  2015      5   \n",
            "...           ...         ...      ...         ...        ...   ...    ...   \n",
            "884257          6           3     7663 -122.408983  37.751987  2003      1   \n",
            "884258          6           4     5411 -122.425342  37.792681  2003      1   \n",
            "884259          6           2    11240 -122.445418  37.712075  2003      1   \n",
            "884260          6           0     4231 -122.387394  37.739479  2003      1   \n",
            "884261          6           8     4313 -122.489714  37.733950  2003      1   \n",
            "\n",
            "        DAY  HOUR  \n",
            "0        10    23  \n",
            "1        10    23  \n",
            "2        10    23  \n",
            "3        10    23  \n",
            "4        10    23  \n",
            "...     ...   ...  \n",
            "884257    1     0  \n",
            "884258    1     0  \n",
            "884259    1     0  \n",
            "884260    1     0  \n",
            "884261    1     0  \n",
            "\n",
            "[884262 rows x 9 columns]\n"
          ]
        }
      ]
    },
    {
      "cell_type": "code",
      "source": [
        "print(result[0])"
      ],
      "metadata": {
        "colab": {
          "base_uri": "https://localhost:8080/"
        },
        "id": "vnKOBPBYghdT",
        "outputId": "046b5688-f3ba-4617-aa9a-5eebcfd04e0d"
      },
      "id": "vnKOBPBYghdT",
      "execution_count": null,
      "outputs": [
        {
          "output_type": "stream",
          "name": "stdout",
          "text": [
            "OTHER OFFENSES\n"
          ]
        }
      ]
    },
    {
      "cell_type": "code",
      "execution_count": null,
      "id": "banned-apollo",
      "metadata": {
        "execution": {
          "iopub.execute_input": "2021-04-18T07:48:37.745765Z",
          "iopub.status.busy": "2021-04-18T07:48:37.744395Z",
          "iopub.status.idle": "2021-04-18T07:48:41.987628Z",
          "shell.execute_reply": "2021-04-18T07:48:41.986783Z"
        },
        "papermill": {
          "duration": 4.307064,
          "end_time": "2021-04-18T07:48:41.987786",
          "exception": false,
          "start_time": "2021-04-18T07:48:37.680722",
          "status": "completed"
        },
        "tags": [],
        "id": "banned-apollo"
      },
      "outputs": [],
      "source": [
        "predictions = trainedModel.predict_proba(test_x)"
      ]
    },
    {
      "cell_type": "code",
      "execution_count": null,
      "id": "virgin-freight",
      "metadata": {
        "execution": {
          "iopub.execute_input": "2021-04-18T07:48:42.108540Z",
          "iopub.status.busy": "2021-04-18T07:48:42.107672Z",
          "iopub.status.idle": "2021-04-18T07:48:42.114061Z",
          "shell.execute_reply": "2021-04-18T07:48:42.113424Z"
        },
        "papermill": {
          "duration": 0.069859,
          "end_time": "2021-04-18T07:48:42.114207",
          "exception": false,
          "start_time": "2021-04-18T07:48:42.044348",
          "status": "completed"
        },
        "tags": [],
        "colab": {
          "base_uri": "https://localhost:8080/"
        },
        "id": "virgin-freight",
        "outputId": "b8db9ad1-65e1-4408-f4d5-46b3fd1353fc"
      },
      "outputs": [
        {
          "output_type": "execute_result",
          "data": {
            "text/plain": [
              "array([[0.00320192, 0.12138433, 0.00028981, ..., 0.08368346, 0.04324645,\n",
              "        0.01847034],\n",
              "       [0.00338819, 0.12275365, 0.00029489, ..., 0.08052916, 0.04422286,\n",
              "        0.01893344],\n",
              "       [0.00142812, 0.07408403, 0.0004947 , ..., 0.05679458, 0.0316665 ,\n",
              "        0.00600634],\n",
              "       ...,\n",
              "       [0.00291919, 0.10405836, 0.00076328, ..., 0.12741834, 0.03415919,\n",
              "        0.01046015],\n",
              "       [0.00366372, 0.11486098, 0.00059147, ..., 0.09811242, 0.04957649,\n",
              "        0.01567282],\n",
              "       [0.00237658, 0.09607429, 0.00085675, ..., 0.12320744, 0.03169755,\n",
              "        0.0084926 ]])"
            ]
          },
          "metadata": {},
          "execution_count": 35
        }
      ],
      "source": [
        "predictions"
      ]
    },
    {
      "cell_type": "code",
      "execution_count": null,
      "id": "square-klein",
      "metadata": {
        "execution": {
          "iopub.execute_input": "2021-04-18T07:48:42.196040Z",
          "iopub.status.busy": "2021-04-18T07:48:42.195420Z",
          "iopub.status.idle": "2021-04-18T07:48:42.201264Z",
          "shell.execute_reply": "2021-04-18T07:48:42.200629Z"
        },
        "papermill": {
          "duration": 0.049171,
          "end_time": "2021-04-18T07:48:42.201387",
          "exception": false,
          "start_time": "2021-04-18T07:48:42.152216",
          "status": "completed"
        },
        "tags": [],
        "colab": {
          "base_uri": "https://localhost:8080/"
        },
        "id": "square-klein",
        "outputId": "560aa6f7-1f6b-4a7b-ae8f-f94fcaf57fb7"
      },
      "outputs": [
        {
          "output_type": "execute_result",
          "data": {
            "text/plain": [
              "(884262, 39)"
            ]
          },
          "metadata": {},
          "execution_count": 36
        }
      ],
      "source": [
        "predictions.shape"
      ]
    },
    {
      "cell_type": "code",
      "execution_count": null,
      "id": "dramatic-karen",
      "metadata": {
        "execution": {
          "iopub.execute_input": "2021-04-18T07:48:42.288262Z",
          "iopub.status.busy": "2021-04-18T07:48:42.287650Z",
          "iopub.status.idle": "2021-04-18T07:48:42.292429Z",
          "shell.execute_reply": "2021-04-18T07:48:42.291662Z"
        },
        "papermill": {
          "duration": 0.051654,
          "end_time": "2021-04-18T07:48:42.292617",
          "exception": false,
          "start_time": "2021-04-18T07:48:42.240963",
          "status": "completed"
        },
        "tags": [],
        "colab": {
          "base_uri": "https://localhost:8080/"
        },
        "id": "dramatic-karen",
        "outputId": "3dadba26-81c8-40ca-d737-c3a7daa2cc70"
      },
      "outputs": [
        {
          "output_type": "execute_result",
          "data": {
            "text/plain": [
              "array([ 0,  1,  2,  3,  4,  5,  6,  7,  8,  9, 10, 11, 12, 13, 14, 15, 16,\n",
              "       17, 18, 19, 20, 21, 22, 23, 24, 25, 26, 27, 28, 29, 30, 31, 32, 33,\n",
              "       34, 35, 36, 37, 38], dtype=int16)"
            ]
          },
          "metadata": {},
          "execution_count": 37
        }
      ],
      "source": [
        "np.linspace(0, 38, 39, dtype='int16')"
      ]
    },
    {
      "cell_type": "code",
      "execution_count": null,
      "id": "subsequent-disclaimer",
      "metadata": {
        "execution": {
          "iopub.execute_input": "2021-04-18T07:48:42.379155Z",
          "iopub.status.busy": "2021-04-18T07:48:42.378242Z",
          "iopub.status.idle": "2021-04-18T07:48:42.386022Z",
          "shell.execute_reply": "2021-04-18T07:48:42.385461Z"
        },
        "papermill": {
          "duration": 0.054543,
          "end_time": "2021-04-18T07:48:42.386163",
          "exception": false,
          "start_time": "2021-04-18T07:48:42.331620",
          "status": "completed"
        },
        "tags": [],
        "colab": {
          "base_uri": "https://localhost:8080/"
        },
        "id": "subsequent-disclaimer",
        "outputId": "d3cae554-9c24-4161-a6bc-c197e4761f4c"
      },
      "outputs": [
        {
          "output_type": "execute_result",
          "data": {
            "text/plain": [
              "array(['0 Block of 10TH ST', '0 Block of 11TH ST', '0 Block of 12TH AV',\n",
              "       '0 Block of 12TH ST', '0 Block of 13TH ST', '0 Block of 14TH AV',\n",
              "       '0 Block of 14TH ST', '0 Block of 15TH AV', '0 Block of 15TH ST',\n",
              "       '0 Block of 16TH AV', '0 Block of 17TH AV', '0 Block of 18TH AV',\n",
              "       '0 Block of 19TH AV', '0 Block of 1ST ST', '0 Block of 20TH AV',\n",
              "       '0 Block of 21ST AV', '0 Block of 22ND AV', '0 Block of 25TH AV',\n",
              "       '0 Block of 26TH AV', '0 Block of 27TH AV', '0 Block of 27TH ST',\n",
              "       '0 Block of 28TH ST', '0 Block of 29TH ST', '0 Block of 2ND AV',\n",
              "       '0 Block of 2ND ST', '0 Block of 30TH ST', '0 Block of 36TH AV',\n",
              "       '0 Block of 3RD AV', '0 Block of 3RD ST', '0 Block of 4TH ST',\n",
              "       '0 Block of 5TH AV', '0 Block of 5TH ST',\n",
              "       '0 Block of 5THSTNORTH ST', '0 Block of 6TH AV',\n",
              "       '0 Block of 6TH ST', '0 Block of 7TH AV', '0 Block of 7TH ST',\n",
              "       '0 Block of 7THSTNORTH ST', '0 Block of 8TH AV'], dtype=object)"
            ]
          },
          "metadata": {},
          "execution_count": 38
        }
      ],
      "source": [
        "sub_length = le.inverse_transform(np.linspace(0, 38, 39, dtype='int16'))\n",
        "sub_length"
      ]
    },
    {
      "cell_type": "code",
      "execution_count": null,
      "id": "noble-bahrain",
      "metadata": {
        "execution": {
          "iopub.execute_input": "2021-04-18T07:48:42.474412Z",
          "iopub.status.busy": "2021-04-18T07:48:42.472650Z",
          "iopub.status.idle": "2021-04-18T07:48:42.487674Z",
          "shell.execute_reply": "2021-04-18T07:48:42.487154Z"
        },
        "papermill": {
          "duration": 0.061327,
          "end_time": "2021-04-18T07:48:42.487801",
          "exception": false,
          "start_time": "2021-04-18T07:48:42.426474",
          "status": "completed"
        },
        "tags": [],
        "colab": {
          "base_uri": "https://localhost:8080/"
        },
        "id": "noble-bahrain",
        "outputId": "d5fc9341-4f64-4120-8d16-c991637fd014"
      },
      "outputs": [
        {
          "output_type": "execute_result",
          "data": {
            "text/plain": [
              "['WARRANTS', 'OTHER OFFENSES', 'LARCENY/THEFT', 'VEHICLE THEFT', 'VANDALISM', ..., 'GAMBLING', 'BAD CHECKS', 'TREA', 'RECOVERED VEHICLE', 'PORNOGRAPHY/OBSCENE MAT']\n",
              "Length: 39\n",
              "Categories (39, object): ['ARSON', 'ASSAULT', 'BAD CHECKS', 'BRIBERY', ..., 'VANDALISM',\n",
              "                          'VEHICLE THEFT', 'WARRANTS', 'WEAPON LAWS']"
            ]
          },
          "metadata": {},
          "execution_count": 39
        }
      ],
      "source": [
        "train_y['Category'].unique()"
      ]
    },
    {
      "cell_type": "code",
      "execution_count": null,
      "id": "demonstrated-invention",
      "metadata": {
        "execution": {
          "iopub.execute_input": "2021-04-18T07:48:42.596352Z",
          "iopub.status.busy": "2021-04-18T07:48:42.583276Z",
          "iopub.status.idle": "2021-04-18T07:48:42.601686Z",
          "shell.execute_reply": "2021-04-18T07:48:42.600869Z"
        },
        "papermill": {
          "duration": 0.072925,
          "end_time": "2021-04-18T07:48:42.601848",
          "exception": false,
          "start_time": "2021-04-18T07:48:42.528923",
          "status": "completed"
        },
        "tags": [],
        "colab": {
          "base_uri": "https://localhost:8080/",
          "height": 332
        },
        "id": "demonstrated-invention",
        "outputId": "2d4d8b35-d797-4ff9-ffed-94ca15a26957"
      },
      "outputs": [
        {
          "output_type": "execute_result",
          "data": {
            "text/plain": [
              "   Id  ARSON  ASSAULT  BAD CHECKS  BRIBERY  BURGLARY  DISORDERLY CONDUCT  \\\n",
              "0   0      0        0           0        0         0                   0   \n",
              "1   1      0        0           0        0         0                   0   \n",
              "2   2      0        0           0        0         0                   0   \n",
              "3   3      0        0           0        0         0                   0   \n",
              "4   4      0        0           0        0         0                   0   \n",
              "\n",
              "   DRIVING UNDER THE INFLUENCE  DRUG/NARCOTIC  DRUNKENNESS  ...  \\\n",
              "0                            0              0            0  ...   \n",
              "1                            0              0            0  ...   \n",
              "2                            0              0            0  ...   \n",
              "3                            0              0            0  ...   \n",
              "4                            0              0            0  ...   \n",
              "\n",
              "   SEX OFFENSES NON FORCIBLE  STOLEN PROPERTY  SUICIDE  SUSPICIOUS OCC  TREA  \\\n",
              "0                          0                0        0               0     0   \n",
              "1                          0                0        0               0     0   \n",
              "2                          0                0        0               0     0   \n",
              "3                          0                0        0               0     0   \n",
              "4                          0                0        0               0     0   \n",
              "\n",
              "   TRESPASS  VANDALISM  VEHICLE THEFT  WARRANTS  WEAPON LAWS  \n",
              "0         0          0              0         1            0  \n",
              "1         0          0              0         1            0  \n",
              "2         0          0              0         1            0  \n",
              "3         0          0              0         1            0  \n",
              "4         0          0              0         1            0  \n",
              "\n",
              "[5 rows x 40 columns]"
            ],
            "text/html": [
              "\n",
              "  <div id=\"df-813167d4-c08c-41d1-ae33-217e6f69a637\">\n",
              "    <div class=\"colab-df-container\">\n",
              "      <div>\n",
              "<style scoped>\n",
              "    .dataframe tbody tr th:only-of-type {\n",
              "        vertical-align: middle;\n",
              "    }\n",
              "\n",
              "    .dataframe tbody tr th {\n",
              "        vertical-align: top;\n",
              "    }\n",
              "\n",
              "    .dataframe thead th {\n",
              "        text-align: right;\n",
              "    }\n",
              "</style>\n",
              "<table border=\"1\" class=\"dataframe\">\n",
              "  <thead>\n",
              "    <tr style=\"text-align: right;\">\n",
              "      <th></th>\n",
              "      <th>Id</th>\n",
              "      <th>ARSON</th>\n",
              "      <th>ASSAULT</th>\n",
              "      <th>BAD CHECKS</th>\n",
              "      <th>BRIBERY</th>\n",
              "      <th>BURGLARY</th>\n",
              "      <th>DISORDERLY CONDUCT</th>\n",
              "      <th>DRIVING UNDER THE INFLUENCE</th>\n",
              "      <th>DRUG/NARCOTIC</th>\n",
              "      <th>DRUNKENNESS</th>\n",
              "      <th>...</th>\n",
              "      <th>SEX OFFENSES NON FORCIBLE</th>\n",
              "      <th>STOLEN PROPERTY</th>\n",
              "      <th>SUICIDE</th>\n",
              "      <th>SUSPICIOUS OCC</th>\n",
              "      <th>TREA</th>\n",
              "      <th>TRESPASS</th>\n",
              "      <th>VANDALISM</th>\n",
              "      <th>VEHICLE THEFT</th>\n",
              "      <th>WARRANTS</th>\n",
              "      <th>WEAPON LAWS</th>\n",
              "    </tr>\n",
              "  </thead>\n",
              "  <tbody>\n",
              "    <tr>\n",
              "      <th>0</th>\n",
              "      <td>0</td>\n",
              "      <td>0</td>\n",
              "      <td>0</td>\n",
              "      <td>0</td>\n",
              "      <td>0</td>\n",
              "      <td>0</td>\n",
              "      <td>0</td>\n",
              "      <td>0</td>\n",
              "      <td>0</td>\n",
              "      <td>0</td>\n",
              "      <td>...</td>\n",
              "      <td>0</td>\n",
              "      <td>0</td>\n",
              "      <td>0</td>\n",
              "      <td>0</td>\n",
              "      <td>0</td>\n",
              "      <td>0</td>\n",
              "      <td>0</td>\n",
              "      <td>0</td>\n",
              "      <td>1</td>\n",
              "      <td>0</td>\n",
              "    </tr>\n",
              "    <tr>\n",
              "      <th>1</th>\n",
              "      <td>1</td>\n",
              "      <td>0</td>\n",
              "      <td>0</td>\n",
              "      <td>0</td>\n",
              "      <td>0</td>\n",
              "      <td>0</td>\n",
              "      <td>0</td>\n",
              "      <td>0</td>\n",
              "      <td>0</td>\n",
              "      <td>0</td>\n",
              "      <td>...</td>\n",
              "      <td>0</td>\n",
              "      <td>0</td>\n",
              "      <td>0</td>\n",
              "      <td>0</td>\n",
              "      <td>0</td>\n",
              "      <td>0</td>\n",
              "      <td>0</td>\n",
              "      <td>0</td>\n",
              "      <td>1</td>\n",
              "      <td>0</td>\n",
              "    </tr>\n",
              "    <tr>\n",
              "      <th>2</th>\n",
              "      <td>2</td>\n",
              "      <td>0</td>\n",
              "      <td>0</td>\n",
              "      <td>0</td>\n",
              "      <td>0</td>\n",
              "      <td>0</td>\n",
              "      <td>0</td>\n",
              "      <td>0</td>\n",
              "      <td>0</td>\n",
              "      <td>0</td>\n",
              "      <td>...</td>\n",
              "      <td>0</td>\n",
              "      <td>0</td>\n",
              "      <td>0</td>\n",
              "      <td>0</td>\n",
              "      <td>0</td>\n",
              "      <td>0</td>\n",
              "      <td>0</td>\n",
              "      <td>0</td>\n",
              "      <td>1</td>\n",
              "      <td>0</td>\n",
              "    </tr>\n",
              "    <tr>\n",
              "      <th>3</th>\n",
              "      <td>3</td>\n",
              "      <td>0</td>\n",
              "      <td>0</td>\n",
              "      <td>0</td>\n",
              "      <td>0</td>\n",
              "      <td>0</td>\n",
              "      <td>0</td>\n",
              "      <td>0</td>\n",
              "      <td>0</td>\n",
              "      <td>0</td>\n",
              "      <td>...</td>\n",
              "      <td>0</td>\n",
              "      <td>0</td>\n",
              "      <td>0</td>\n",
              "      <td>0</td>\n",
              "      <td>0</td>\n",
              "      <td>0</td>\n",
              "      <td>0</td>\n",
              "      <td>0</td>\n",
              "      <td>1</td>\n",
              "      <td>0</td>\n",
              "    </tr>\n",
              "    <tr>\n",
              "      <th>4</th>\n",
              "      <td>4</td>\n",
              "      <td>0</td>\n",
              "      <td>0</td>\n",
              "      <td>0</td>\n",
              "      <td>0</td>\n",
              "      <td>0</td>\n",
              "      <td>0</td>\n",
              "      <td>0</td>\n",
              "      <td>0</td>\n",
              "      <td>0</td>\n",
              "      <td>...</td>\n",
              "      <td>0</td>\n",
              "      <td>0</td>\n",
              "      <td>0</td>\n",
              "      <td>0</td>\n",
              "      <td>0</td>\n",
              "      <td>0</td>\n",
              "      <td>0</td>\n",
              "      <td>0</td>\n",
              "      <td>1</td>\n",
              "      <td>0</td>\n",
              "    </tr>\n",
              "  </tbody>\n",
              "</table>\n",
              "<p>5 rows × 40 columns</p>\n",
              "</div>\n",
              "      <button class=\"colab-df-convert\" onclick=\"convertToInteractive('df-813167d4-c08c-41d1-ae33-217e6f69a637')\"\n",
              "              title=\"Convert this dataframe to an interactive table.\"\n",
              "              style=\"display:none;\">\n",
              "        \n",
              "  <svg xmlns=\"http://www.w3.org/2000/svg\" height=\"24px\"viewBox=\"0 0 24 24\"\n",
              "       width=\"24px\">\n",
              "    <path d=\"M0 0h24v24H0V0z\" fill=\"none\"/>\n",
              "    <path d=\"M18.56 5.44l.94 2.06.94-2.06 2.06-.94-2.06-.94-.94-2.06-.94 2.06-2.06.94zm-11 1L8.5 8.5l.94-2.06 2.06-.94-2.06-.94L8.5 2.5l-.94 2.06-2.06.94zm10 10l.94 2.06.94-2.06 2.06-.94-2.06-.94-.94-2.06-.94 2.06-2.06.94z\"/><path d=\"M17.41 7.96l-1.37-1.37c-.4-.4-.92-.59-1.43-.59-.52 0-1.04.2-1.43.59L10.3 9.45l-7.72 7.72c-.78.78-.78 2.05 0 2.83L4 21.41c.39.39.9.59 1.41.59.51 0 1.02-.2 1.41-.59l7.78-7.78 2.81-2.81c.8-.78.8-2.07 0-2.86zM5.41 20L4 18.59l7.72-7.72 1.47 1.35L5.41 20z\"/>\n",
              "  </svg>\n",
              "      </button>\n",
              "      \n",
              "  <style>\n",
              "    .colab-df-container {\n",
              "      display:flex;\n",
              "      flex-wrap:wrap;\n",
              "      gap: 12px;\n",
              "    }\n",
              "\n",
              "    .colab-df-convert {\n",
              "      background-color: #E8F0FE;\n",
              "      border: none;\n",
              "      border-radius: 50%;\n",
              "      cursor: pointer;\n",
              "      display: none;\n",
              "      fill: #1967D2;\n",
              "      height: 32px;\n",
              "      padding: 0 0 0 0;\n",
              "      width: 32px;\n",
              "    }\n",
              "\n",
              "    .colab-df-convert:hover {\n",
              "      background-color: #E2EBFA;\n",
              "      box-shadow: 0px 1px 2px rgba(60, 64, 67, 0.3), 0px 1px 3px 1px rgba(60, 64, 67, 0.15);\n",
              "      fill: #174EA6;\n",
              "    }\n",
              "\n",
              "    [theme=dark] .colab-df-convert {\n",
              "      background-color: #3B4455;\n",
              "      fill: #D2E3FC;\n",
              "    }\n",
              "\n",
              "    [theme=dark] .colab-df-convert:hover {\n",
              "      background-color: #434B5C;\n",
              "      box-shadow: 0px 1px 3px 1px rgba(0, 0, 0, 0.15);\n",
              "      filter: drop-shadow(0px 1px 2px rgba(0, 0, 0, 0.3));\n",
              "      fill: #FFFFFF;\n",
              "    }\n",
              "  </style>\n",
              "\n",
              "      <script>\n",
              "        const buttonEl =\n",
              "          document.querySelector('#df-813167d4-c08c-41d1-ae33-217e6f69a637 button.colab-df-convert');\n",
              "        buttonEl.style.display =\n",
              "          google.colab.kernel.accessAllowed ? 'block' : 'none';\n",
              "\n",
              "        async function convertToInteractive(key) {\n",
              "          const element = document.querySelector('#df-813167d4-c08c-41d1-ae33-217e6f69a637');\n",
              "          const dataTable =\n",
              "            await google.colab.kernel.invokeFunction('convertToInteractive',\n",
              "                                                     [key], {});\n",
              "          if (!dataTable) return;\n",
              "\n",
              "          const docLinkHtml = 'Like what you see? Visit the ' +\n",
              "            '<a target=\"_blank\" href=https://colab.research.google.com/notebooks/data_table.ipynb>data table notebook</a>'\n",
              "            + ' to learn more about interactive tables.';\n",
              "          element.innerHTML = '';\n",
              "          dataTable['output_type'] = 'display_data';\n",
              "          await google.colab.output.renderOutput(dataTable, element);\n",
              "          const docLink = document.createElement('div');\n",
              "          docLink.innerHTML = docLinkHtml;\n",
              "          element.appendChild(docLink);\n",
              "        }\n",
              "      </script>\n",
              "    </div>\n",
              "  </div>\n",
              "  "
            ]
          },
          "metadata": {},
          "execution_count": 40
        }
      ],
      "source": [
        "sub.head()"
      ]
    },
    {
      "cell_type": "code",
      "execution_count": null,
      "id": "passive-stadium",
      "metadata": {
        "execution": {
          "iopub.execute_input": "2021-04-18T07:48:42.727758Z",
          "iopub.status.busy": "2021-04-18T07:48:42.727116Z",
          "iopub.status.idle": "2021-04-18T07:48:42.732179Z",
          "shell.execute_reply": "2021-04-18T07:48:42.731522Z"
        },
        "papermill": {
          "duration": 0.070926,
          "end_time": "2021-04-18T07:48:42.732323",
          "exception": false,
          "start_time": "2021-04-18T07:48:42.661397",
          "status": "completed"
        },
        "tags": [],
        "colab": {
          "base_uri": "https://localhost:8080/"
        },
        "id": "passive-stadium",
        "outputId": "aaae5d85-e17d-49ed-e5f7-6b9c44616e5f"
      },
      "outputs": [
        {
          "output_type": "execute_result",
          "data": {
            "text/plain": [
              "39"
            ]
          },
          "metadata": {},
          "execution_count": 41
        }
      ],
      "source": [
        "len(predictions[0])"
      ]
    },
    {
      "cell_type": "code",
      "execution_count": null,
      "id": "excess-benefit",
      "metadata": {
        "execution": {
          "iopub.execute_input": "2021-04-18T07:48:44.213727Z",
          "iopub.status.busy": "2021-04-18T07:48:44.213114Z",
          "iopub.status.idle": "2021-04-18T07:48:55.362241Z",
          "shell.execute_reply": "2021-04-18T07:48:55.361319Z"
        },
        "papermill": {
          "duration": 12.588611,
          "end_time": "2021-04-18T07:48:55.362385",
          "exception": false,
          "start_time": "2021-04-18T07:48:42.773774",
          "status": "completed"
        },
        "tags": [],
        "id": "excess-benefit"
      },
      "outputs": [],
      "source": [
        "sub.iloc[:,1:] = predictions"
      ]
    },
    {
      "cell_type": "code",
      "execution_count": null,
      "id": "ready-founder",
      "metadata": {
        "execution": {
          "iopub.execute_input": "2021-04-18T07:48:55.462059Z",
          "iopub.status.busy": "2021-04-18T07:48:55.452154Z",
          "iopub.status.idle": "2021-04-18T07:48:55.483322Z",
          "shell.execute_reply": "2021-04-18T07:48:55.482686Z"
        },
        "papermill": {
          "duration": 0.078504,
          "end_time": "2021-04-18T07:48:55.483457",
          "exception": false,
          "start_time": "2021-04-18T07:48:55.404953",
          "status": "completed"
        },
        "tags": [],
        "colab": {
          "base_uri": "https://localhost:8080/",
          "height": 352
        },
        "id": "ready-founder",
        "outputId": "35d08544-f018-4555-aa42-5093390cfc87"
      },
      "outputs": [
        {
          "output_type": "execute_result",
          "data": {
            "text/plain": [
              "   Id     ARSON   ASSAULT  BAD CHECKS   BRIBERY  BURGLARY  DISORDERLY CONDUCT  \\\n",
              "0   0  0.003202  0.121384    0.000290  0.000727  0.042625            0.003965   \n",
              "1   1  0.003388  0.122754    0.000295  0.000749  0.042995            0.003886   \n",
              "2   2  0.001428  0.074084    0.000495  0.000211  0.074512            0.002931   \n",
              "3   3  0.002138  0.103176    0.000286  0.000538  0.048149            0.003130   \n",
              "4   4  0.002138  0.103176    0.000286  0.000538  0.048149            0.003130   \n",
              "\n",
              "   DRIVING UNDER THE INFLUENCE  DRUG/NARCOTIC  DRUNKENNESS  ...  \\\n",
              "0                     0.002501       0.042942     0.004954  ...   \n",
              "1                     0.002409       0.044821     0.004809  ...   \n",
              "2                     0.001586       0.027965     0.004166  ...   \n",
              "3                     0.002573       0.034347     0.004456  ...   \n",
              "4                     0.002573       0.034347     0.004456  ...   \n",
              "\n",
              "   SEX OFFENSES NON FORCIBLE  STOLEN PROPERTY   SUICIDE  SUSPICIOUS OCC  \\\n",
              "0                   0.000301         0.004519  0.000682        0.042755   \n",
              "1                   0.000300         0.004501  0.000678        0.043424   \n",
              "2                   0.000099         0.006966  0.000769        0.036440   \n",
              "3                   0.000264         0.004515  0.000765        0.039693   \n",
              "4                   0.000264         0.004515  0.000765        0.039693   \n",
              "\n",
              "       TREA  TRESPASS  VANDALISM  VEHICLE THEFT  WARRANTS  WEAPON LAWS  \n",
              "0  0.000031  0.007559   0.067867       0.083683  0.043246     0.018470  \n",
              "1  0.000031  0.007668   0.067221       0.080529  0.044223     0.018933  \n",
              "2  0.000005  0.008773   0.058634       0.056795  0.031667     0.006006  \n",
              "3  0.000008  0.006076   0.074803       0.099242  0.032634     0.012251  \n",
              "4  0.000008  0.006076   0.074803       0.099242  0.032634     0.012251  \n",
              "\n",
              "[5 rows x 40 columns]"
            ],
            "text/html": [
              "\n",
              "  <div id=\"df-93b36964-c2a4-4eda-85a3-a403f97213fa\">\n",
              "    <div class=\"colab-df-container\">\n",
              "      <div>\n",
              "<style scoped>\n",
              "    .dataframe tbody tr th:only-of-type {\n",
              "        vertical-align: middle;\n",
              "    }\n",
              "\n",
              "    .dataframe tbody tr th {\n",
              "        vertical-align: top;\n",
              "    }\n",
              "\n",
              "    .dataframe thead th {\n",
              "        text-align: right;\n",
              "    }\n",
              "</style>\n",
              "<table border=\"1\" class=\"dataframe\">\n",
              "  <thead>\n",
              "    <tr style=\"text-align: right;\">\n",
              "      <th></th>\n",
              "      <th>Id</th>\n",
              "      <th>ARSON</th>\n",
              "      <th>ASSAULT</th>\n",
              "      <th>BAD CHECKS</th>\n",
              "      <th>BRIBERY</th>\n",
              "      <th>BURGLARY</th>\n",
              "      <th>DISORDERLY CONDUCT</th>\n",
              "      <th>DRIVING UNDER THE INFLUENCE</th>\n",
              "      <th>DRUG/NARCOTIC</th>\n",
              "      <th>DRUNKENNESS</th>\n",
              "      <th>...</th>\n",
              "      <th>SEX OFFENSES NON FORCIBLE</th>\n",
              "      <th>STOLEN PROPERTY</th>\n",
              "      <th>SUICIDE</th>\n",
              "      <th>SUSPICIOUS OCC</th>\n",
              "      <th>TREA</th>\n",
              "      <th>TRESPASS</th>\n",
              "      <th>VANDALISM</th>\n",
              "      <th>VEHICLE THEFT</th>\n",
              "      <th>WARRANTS</th>\n",
              "      <th>WEAPON LAWS</th>\n",
              "    </tr>\n",
              "  </thead>\n",
              "  <tbody>\n",
              "    <tr>\n",
              "      <th>0</th>\n",
              "      <td>0</td>\n",
              "      <td>0.003202</td>\n",
              "      <td>0.121384</td>\n",
              "      <td>0.000290</td>\n",
              "      <td>0.000727</td>\n",
              "      <td>0.042625</td>\n",
              "      <td>0.003965</td>\n",
              "      <td>0.002501</td>\n",
              "      <td>0.042942</td>\n",
              "      <td>0.004954</td>\n",
              "      <td>...</td>\n",
              "      <td>0.000301</td>\n",
              "      <td>0.004519</td>\n",
              "      <td>0.000682</td>\n",
              "      <td>0.042755</td>\n",
              "      <td>0.000031</td>\n",
              "      <td>0.007559</td>\n",
              "      <td>0.067867</td>\n",
              "      <td>0.083683</td>\n",
              "      <td>0.043246</td>\n",
              "      <td>0.018470</td>\n",
              "    </tr>\n",
              "    <tr>\n",
              "      <th>1</th>\n",
              "      <td>1</td>\n",
              "      <td>0.003388</td>\n",
              "      <td>0.122754</td>\n",
              "      <td>0.000295</td>\n",
              "      <td>0.000749</td>\n",
              "      <td>0.042995</td>\n",
              "      <td>0.003886</td>\n",
              "      <td>0.002409</td>\n",
              "      <td>0.044821</td>\n",
              "      <td>0.004809</td>\n",
              "      <td>...</td>\n",
              "      <td>0.000300</td>\n",
              "      <td>0.004501</td>\n",
              "      <td>0.000678</td>\n",
              "      <td>0.043424</td>\n",
              "      <td>0.000031</td>\n",
              "      <td>0.007668</td>\n",
              "      <td>0.067221</td>\n",
              "      <td>0.080529</td>\n",
              "      <td>0.044223</td>\n",
              "      <td>0.018933</td>\n",
              "    </tr>\n",
              "    <tr>\n",
              "      <th>2</th>\n",
              "      <td>2</td>\n",
              "      <td>0.001428</td>\n",
              "      <td>0.074084</td>\n",
              "      <td>0.000495</td>\n",
              "      <td>0.000211</td>\n",
              "      <td>0.074512</td>\n",
              "      <td>0.002931</td>\n",
              "      <td>0.001586</td>\n",
              "      <td>0.027965</td>\n",
              "      <td>0.004166</td>\n",
              "      <td>...</td>\n",
              "      <td>0.000099</td>\n",
              "      <td>0.006966</td>\n",
              "      <td>0.000769</td>\n",
              "      <td>0.036440</td>\n",
              "      <td>0.000005</td>\n",
              "      <td>0.008773</td>\n",
              "      <td>0.058634</td>\n",
              "      <td>0.056795</td>\n",
              "      <td>0.031667</td>\n",
              "      <td>0.006006</td>\n",
              "    </tr>\n",
              "    <tr>\n",
              "      <th>3</th>\n",
              "      <td>3</td>\n",
              "      <td>0.002138</td>\n",
              "      <td>0.103176</td>\n",
              "      <td>0.000286</td>\n",
              "      <td>0.000538</td>\n",
              "      <td>0.048149</td>\n",
              "      <td>0.003130</td>\n",
              "      <td>0.002573</td>\n",
              "      <td>0.034347</td>\n",
              "      <td>0.004456</td>\n",
              "      <td>...</td>\n",
              "      <td>0.000264</td>\n",
              "      <td>0.004515</td>\n",
              "      <td>0.000765</td>\n",
              "      <td>0.039693</td>\n",
              "      <td>0.000008</td>\n",
              "      <td>0.006076</td>\n",
              "      <td>0.074803</td>\n",
              "      <td>0.099242</td>\n",
              "      <td>0.032634</td>\n",
              "      <td>0.012251</td>\n",
              "    </tr>\n",
              "    <tr>\n",
              "      <th>4</th>\n",
              "      <td>4</td>\n",
              "      <td>0.002138</td>\n",
              "      <td>0.103176</td>\n",
              "      <td>0.000286</td>\n",
              "      <td>0.000538</td>\n",
              "      <td>0.048149</td>\n",
              "      <td>0.003130</td>\n",
              "      <td>0.002573</td>\n",
              "      <td>0.034347</td>\n",
              "      <td>0.004456</td>\n",
              "      <td>...</td>\n",
              "      <td>0.000264</td>\n",
              "      <td>0.004515</td>\n",
              "      <td>0.000765</td>\n",
              "      <td>0.039693</td>\n",
              "      <td>0.000008</td>\n",
              "      <td>0.006076</td>\n",
              "      <td>0.074803</td>\n",
              "      <td>0.099242</td>\n",
              "      <td>0.032634</td>\n",
              "      <td>0.012251</td>\n",
              "    </tr>\n",
              "  </tbody>\n",
              "</table>\n",
              "<p>5 rows × 40 columns</p>\n",
              "</div>\n",
              "      <button class=\"colab-df-convert\" onclick=\"convertToInteractive('df-93b36964-c2a4-4eda-85a3-a403f97213fa')\"\n",
              "              title=\"Convert this dataframe to an interactive table.\"\n",
              "              style=\"display:none;\">\n",
              "        \n",
              "  <svg xmlns=\"http://www.w3.org/2000/svg\" height=\"24px\"viewBox=\"0 0 24 24\"\n",
              "       width=\"24px\">\n",
              "    <path d=\"M0 0h24v24H0V0z\" fill=\"none\"/>\n",
              "    <path d=\"M18.56 5.44l.94 2.06.94-2.06 2.06-.94-2.06-.94-.94-2.06-.94 2.06-2.06.94zm-11 1L8.5 8.5l.94-2.06 2.06-.94-2.06-.94L8.5 2.5l-.94 2.06-2.06.94zm10 10l.94 2.06.94-2.06 2.06-.94-2.06-.94-.94-2.06-.94 2.06-2.06.94z\"/><path d=\"M17.41 7.96l-1.37-1.37c-.4-.4-.92-.59-1.43-.59-.52 0-1.04.2-1.43.59L10.3 9.45l-7.72 7.72c-.78.78-.78 2.05 0 2.83L4 21.41c.39.39.9.59 1.41.59.51 0 1.02-.2 1.41-.59l7.78-7.78 2.81-2.81c.8-.78.8-2.07 0-2.86zM5.41 20L4 18.59l7.72-7.72 1.47 1.35L5.41 20z\"/>\n",
              "  </svg>\n",
              "      </button>\n",
              "      \n",
              "  <style>\n",
              "    .colab-df-container {\n",
              "      display:flex;\n",
              "      flex-wrap:wrap;\n",
              "      gap: 12px;\n",
              "    }\n",
              "\n",
              "    .colab-df-convert {\n",
              "      background-color: #E8F0FE;\n",
              "      border: none;\n",
              "      border-radius: 50%;\n",
              "      cursor: pointer;\n",
              "      display: none;\n",
              "      fill: #1967D2;\n",
              "      height: 32px;\n",
              "      padding: 0 0 0 0;\n",
              "      width: 32px;\n",
              "    }\n",
              "\n",
              "    .colab-df-convert:hover {\n",
              "      background-color: #E2EBFA;\n",
              "      box-shadow: 0px 1px 2px rgba(60, 64, 67, 0.3), 0px 1px 3px 1px rgba(60, 64, 67, 0.15);\n",
              "      fill: #174EA6;\n",
              "    }\n",
              "\n",
              "    [theme=dark] .colab-df-convert {\n",
              "      background-color: #3B4455;\n",
              "      fill: #D2E3FC;\n",
              "    }\n",
              "\n",
              "    [theme=dark] .colab-df-convert:hover {\n",
              "      background-color: #434B5C;\n",
              "      box-shadow: 0px 1px 3px 1px rgba(0, 0, 0, 0.15);\n",
              "      filter: drop-shadow(0px 1px 2px rgba(0, 0, 0, 0.3));\n",
              "      fill: #FFFFFF;\n",
              "    }\n",
              "  </style>\n",
              "\n",
              "      <script>\n",
              "        const buttonEl =\n",
              "          document.querySelector('#df-93b36964-c2a4-4eda-85a3-a403f97213fa button.colab-df-convert');\n",
              "        buttonEl.style.display =\n",
              "          google.colab.kernel.accessAllowed ? 'block' : 'none';\n",
              "\n",
              "        async function convertToInteractive(key) {\n",
              "          const element = document.querySelector('#df-93b36964-c2a4-4eda-85a3-a403f97213fa');\n",
              "          const dataTable =\n",
              "            await google.colab.kernel.invokeFunction('convertToInteractive',\n",
              "                                                     [key], {});\n",
              "          if (!dataTable) return;\n",
              "\n",
              "          const docLinkHtml = 'Like what you see? Visit the ' +\n",
              "            '<a target=\"_blank\" href=https://colab.research.google.com/notebooks/data_table.ipynb>data table notebook</a>'\n",
              "            + ' to learn more about interactive tables.';\n",
              "          element.innerHTML = '';\n",
              "          dataTable['output_type'] = 'display_data';\n",
              "          await google.colab.output.renderOutput(dataTable, element);\n",
              "          const docLink = document.createElement('div');\n",
              "          docLink.innerHTML = docLinkHtml;\n",
              "          element.appendChild(docLink);\n",
              "        }\n",
              "      </script>\n",
              "    </div>\n",
              "  </div>\n",
              "  "
            ]
          },
          "metadata": {},
          "execution_count": 43
        }
      ],
      "source": [
        "sub.head()"
      ]
    },
    {
      "cell_type": "code",
      "execution_count": null,
      "id": "nuclear-currency",
      "metadata": {
        "execution": {
          "iopub.execute_input": "2021-04-18T07:48:55.574361Z",
          "iopub.status.busy": "2021-04-18T07:48:55.573737Z",
          "iopub.status.idle": "2021-04-18T07:49:54.119123Z",
          "shell.execute_reply": "2021-04-18T07:49:54.118223Z"
        },
        "papermill": {
          "duration": 58.592845,
          "end_time": "2021-04-18T07:49:54.119288",
          "exception": false,
          "start_time": "2021-04-18T07:48:55.526443",
          "status": "completed"
        },
        "tags": [],
        "id": "nuclear-currency"
      },
      "outputs": [],
      "source": [
        "sub.to_csv('sub1.csv', index = False)"
      ]
    },
    {
      "cell_type": "code",
      "source": [
        "#=============== Prediction ===============\n",
        "import joblib\n",
        "\n",
        "loaded_rf = joblib.load(\"crime_model.joblib\")"
      ],
      "metadata": {
        "id": "mC8Y0QfE73IE"
      },
      "id": "mC8Y0QfE73IE",
      "execution_count": null,
      "outputs": []
    },
    {
      "cell_type": "code",
      "source": [
        "lst = [[3,0,6407,-122.3995877,37.73505101,2015,5,10,23]]  \n",
        "\n",
        "testDataRow = pd.DataFrame(lst, columns =['DayOfWeek', 'PdDistrict', 'Address','X', 'Y', 'YEAR', 'MONTH', 'DAY', 'HOUR']) \n",
        "\n",
        "testDataRow.head()"
      ],
      "metadata": {
        "colab": {
          "base_uri": "https://localhost:8080/",
          "height": 81
        },
        "id": "LQyC-OMWtmke",
        "outputId": "1fa3d314-2e11-41bf-b186-cef6d8545ccb"
      },
      "id": "LQyC-OMWtmke",
      "execution_count": null,
      "outputs": [
        {
          "output_type": "execute_result",
          "data": {
            "text/plain": [
              "   DayOfWeek  PdDistrict  Address           X          Y  YEAR  MONTH  DAY  \\\n",
              "0          3           0     6407 -122.399588  37.735051  2015      5   10   \n",
              "\n",
              "   HOUR  \n",
              "0    23  "
            ],
            "text/html": [
              "\n",
              "  <div id=\"df-ee44da22-498c-43f4-a49f-783dfafa4d6a\">\n",
              "    <div class=\"colab-df-container\">\n",
              "      <div>\n",
              "<style scoped>\n",
              "    .dataframe tbody tr th:only-of-type {\n",
              "        vertical-align: middle;\n",
              "    }\n",
              "\n",
              "    .dataframe tbody tr th {\n",
              "        vertical-align: top;\n",
              "    }\n",
              "\n",
              "    .dataframe thead th {\n",
              "        text-align: right;\n",
              "    }\n",
              "</style>\n",
              "<table border=\"1\" class=\"dataframe\">\n",
              "  <thead>\n",
              "    <tr style=\"text-align: right;\">\n",
              "      <th></th>\n",
              "      <th>DayOfWeek</th>\n",
              "      <th>PdDistrict</th>\n",
              "      <th>Address</th>\n",
              "      <th>X</th>\n",
              "      <th>Y</th>\n",
              "      <th>YEAR</th>\n",
              "      <th>MONTH</th>\n",
              "      <th>DAY</th>\n",
              "      <th>HOUR</th>\n",
              "    </tr>\n",
              "  </thead>\n",
              "  <tbody>\n",
              "    <tr>\n",
              "      <th>0</th>\n",
              "      <td>3</td>\n",
              "      <td>0</td>\n",
              "      <td>6407</td>\n",
              "      <td>-122.399588</td>\n",
              "      <td>37.735051</td>\n",
              "      <td>2015</td>\n",
              "      <td>5</td>\n",
              "      <td>10</td>\n",
              "      <td>23</td>\n",
              "    </tr>\n",
              "  </tbody>\n",
              "</table>\n",
              "</div>\n",
              "      <button class=\"colab-df-convert\" onclick=\"convertToInteractive('df-ee44da22-498c-43f4-a49f-783dfafa4d6a')\"\n",
              "              title=\"Convert this dataframe to an interactive table.\"\n",
              "              style=\"display:none;\">\n",
              "        \n",
              "  <svg xmlns=\"http://www.w3.org/2000/svg\" height=\"24px\"viewBox=\"0 0 24 24\"\n",
              "       width=\"24px\">\n",
              "    <path d=\"M0 0h24v24H0V0z\" fill=\"none\"/>\n",
              "    <path d=\"M18.56 5.44l.94 2.06.94-2.06 2.06-.94-2.06-.94-.94-2.06-.94 2.06-2.06.94zm-11 1L8.5 8.5l.94-2.06 2.06-.94-2.06-.94L8.5 2.5l-.94 2.06-2.06.94zm10 10l.94 2.06.94-2.06 2.06-.94-2.06-.94-.94-2.06-.94 2.06-2.06.94z\"/><path d=\"M17.41 7.96l-1.37-1.37c-.4-.4-.92-.59-1.43-.59-.52 0-1.04.2-1.43.59L10.3 9.45l-7.72 7.72c-.78.78-.78 2.05 0 2.83L4 21.41c.39.39.9.59 1.41.59.51 0 1.02-.2 1.41-.59l7.78-7.78 2.81-2.81c.8-.78.8-2.07 0-2.86zM5.41 20L4 18.59l7.72-7.72 1.47 1.35L5.41 20z\"/>\n",
              "  </svg>\n",
              "      </button>\n",
              "      \n",
              "  <style>\n",
              "    .colab-df-container {\n",
              "      display:flex;\n",
              "      flex-wrap:wrap;\n",
              "      gap: 12px;\n",
              "    }\n",
              "\n",
              "    .colab-df-convert {\n",
              "      background-color: #E8F0FE;\n",
              "      border: none;\n",
              "      border-radius: 50%;\n",
              "      cursor: pointer;\n",
              "      display: none;\n",
              "      fill: #1967D2;\n",
              "      height: 32px;\n",
              "      padding: 0 0 0 0;\n",
              "      width: 32px;\n",
              "    }\n",
              "\n",
              "    .colab-df-convert:hover {\n",
              "      background-color: #E2EBFA;\n",
              "      box-shadow: 0px 1px 2px rgba(60, 64, 67, 0.3), 0px 1px 3px 1px rgba(60, 64, 67, 0.15);\n",
              "      fill: #174EA6;\n",
              "    }\n",
              "\n",
              "    [theme=dark] .colab-df-convert {\n",
              "      background-color: #3B4455;\n",
              "      fill: #D2E3FC;\n",
              "    }\n",
              "\n",
              "    [theme=dark] .colab-df-convert:hover {\n",
              "      background-color: #434B5C;\n",
              "      box-shadow: 0px 1px 3px 1px rgba(0, 0, 0, 0.15);\n",
              "      filter: drop-shadow(0px 1px 2px rgba(0, 0, 0, 0.3));\n",
              "      fill: #FFFFFF;\n",
              "    }\n",
              "  </style>\n",
              "\n",
              "      <script>\n",
              "        const buttonEl =\n",
              "          document.querySelector('#df-ee44da22-498c-43f4-a49f-783dfafa4d6a button.colab-df-convert');\n",
              "        buttonEl.style.display =\n",
              "          google.colab.kernel.accessAllowed ? 'block' : 'none';\n",
              "\n",
              "        async function convertToInteractive(key) {\n",
              "          const element = document.querySelector('#df-ee44da22-498c-43f4-a49f-783dfafa4d6a');\n",
              "          const dataTable =\n",
              "            await google.colab.kernel.invokeFunction('convertToInteractive',\n",
              "                                                     [key], {});\n",
              "          if (!dataTable) return;\n",
              "\n",
              "          const docLinkHtml = 'Like what you see? Visit the ' +\n",
              "            '<a target=\"_blank\" href=https://colab.research.google.com/notebooks/data_table.ipynb>data table notebook</a>'\n",
              "            + ' to learn more about interactive tables.';\n",
              "          element.innerHTML = '';\n",
              "          dataTable['output_type'] = 'display_data';\n",
              "          await google.colab.output.renderOutput(dataTable, element);\n",
              "          const docLink = document.createElement('div');\n",
              "          docLink.innerHTML = docLinkHtml;\n",
              "          element.appendChild(docLink);\n",
              "        }\n",
              "      </script>\n",
              "    </div>\n",
              "  </div>\n",
              "  "
            ]
          },
          "metadata": {},
          "execution_count": 45
        }
      ]
    },
    {
      "cell_type": "code",
      "source": [
        "__result__ = loaded_rf.predict(testDataRow)\n",
        "print(__result__)"
      ],
      "metadata": {
        "colab": {
          "base_uri": "https://localhost:8080/"
        },
        "id": "xTYuJKr_tpmU",
        "outputId": "c9a2759d-9035-47e0-8a56-55637fb51ec9"
      },
      "id": "xTYuJKr_tpmU",
      "execution_count": null,
      "outputs": [
        {
          "output_type": "stream",
          "name": "stdout",
          "text": [
            "['OTHER OFFENSES']\n"
          ]
        }
      ]
    }
  ],
  "metadata": {
    "kernelspec": {
      "display_name": "Python 3",
      "language": "python",
      "name": "python3"
    },
    "language_info": {
      "codemirror_mode": {
        "name": "ipython",
        "version": 3
      },
      "file_extension": ".py",
      "mimetype": "text/x-python",
      "name": "python",
      "nbconvert_exporter": "python",
      "pygments_lexer": "ipython3",
      "version": "3.7.9"
    },
    "papermill": {
      "default_parameters": {},
      "duration": 127.775324,
      "end_time": "2021-04-18T07:49:54.994966",
      "environment_variables": {},
      "exception": null,
      "input_path": "__notebook__.ipynb",
      "output_path": "__notebook__.ipynb",
      "parameters": {},
      "start_time": "2021-04-18T07:47:47.219642",
      "version": "2.3.2"
    },
    "colab": {
      "name": "Crime-Prediction.ipynb",
      "provenance": [],
      "collapsed_sections": []
    }
  },
  "nbformat": 4,
  "nbformat_minor": 5
}